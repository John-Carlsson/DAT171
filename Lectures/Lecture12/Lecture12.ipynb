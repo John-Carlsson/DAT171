{
 "cells": [
  {
   "cell_type": "markdown",
   "metadata": {},
   "source": [
    "Lecture 12 will cover how to tie the GUI-widgets to the application logic. It will cover the Model-View-Controller (MVC) design concept for GUI.\n",
    "\n",
    "Reference\n",
    " * PyQt and Qt documentation"
   ]
  },
  {
   "cell_type": "markdown",
   "metadata": {},
   "source": [
    "First a bit of standard stuff needed to work with Qt"
   ]
  },
  {
   "cell_type": "code",
   "execution_count": 1,
   "metadata": {},
   "outputs": [],
   "source": [
    "from PyQt5.QtCore import *\n",
    "from PyQt5.QtGui import *\n",
    "from PyQt5.QtWidgets import *\n",
    "import sys"
   ]
  },
  {
   "cell_type": "code",
   "execution_count": 2,
   "metadata": {},
   "outputs": [],
   "source": [
    "qt_app = QApplication(sys.argv)"
   ]
  },
  {
   "cell_type": "markdown",
   "metadata": {},
   "source": [
    "# Model / State"
   ]
  },
  {
   "cell_type": "markdown",
   "metadata": {},
   "source": [
    "It is important to think of the *state* of an interactive piece of software.\n",
    "In sequential scripts, it is easy to keep track of the state, as the order of events are all predetermined, but this is not the case in interactive applications (whether or not they are graphical).\n",
    "\n",
    "For example, the minimum state of a chess game would be:\n",
    "* Whose players turn it is.\n",
    "* The position of all pieces left on the board.\n",
    "\n",
    "but a nicely presented game might need to store more\n",
    "* All the moves so far, in order, for each player\n",
    "* The pieces taken by each player.\n",
    "\n",
    "The user interface renders the information from the state. The user interacts with the user interface which sends signals back to the state to modify it."
   ]
  },
  {
   "cell_type": "markdown",
   "metadata": {},
   "source": [
    "## Mismatching UI and application state"
   ]
  },
  {
   "attachments": {
    "buttons.png": {
     "image/png": "[encoded data removed]"
    }
   },
   "cell_type": "markdown",
   "metadata": {},
   "source": [
    "A common mistake is to let the presented UI not match the actual program state.\n",
    "Lets take the example of a simple painting application, where the state must at least include:\n",
    "* The drawing surface (size, pixel values, etc.)\n",
    "* The selected tool\n",
    "\n",
    "When a tool is selected, it's commonly represented as a pressed down button.\n",
    "When selecting a new tool, the previous tool button should be unpressed.\n",
    "![buttons.png](attachment:buttons.png)\n",
    "Well, that's not to bad. We could even just unpress all the buttons before repressing the new one to be sure.\n",
    "But, then, later on, we learn about the undo-operation and now there is a real risk of messing this up unless we are making real sure that our growing application changes every thing thing it needs to on every possible action.\n",
    "\n",
    "It's therefore not uncommon to see poorly written applications where you need to manually refresh a window, or \"wiggle\" the window edge around to force a window redraw event, or simply close and reopen a window in order for the content to be updated. In real-time games and such, this rarely happens, as games typically redraw everything as many times per second as they can, with little regard for battery life.\n",
    "\n",
    "The challenge is with practical GUI-widget applications, we want to do as little as possible in order to make the program snappy with minimum system load while still always being sure that the current state of the program is always shown.\n",
    "\n",
    "In order to ensure we don't have such bugs in when developing a large complex software, we need have a strategy! One such strategy is the \"Model-View-Controller\" design, which allows us to systematically approach interactive software."
   ]
  },
  {
   "cell_type": "markdown",
   "metadata": {},
   "source": [
    "# Signals"
   ]
  },
  {
   "cell_type": "markdown",
   "metadata": {},
   "source": [
    "Last lecture we looked (briefly) at procedures for placing widgets. I hope you all agree that it is fairly straight forward to construct these, and now the more difficult task of having all the buttons interact and actually do something.\n",
    "One can read more about this on:\n",
    "https://www.tutorialspoint.com/pyqt/pyqt_signals_and_slots.htm\n",
    "\n",
    "In it's simplest form, we have a *callback function*"
   ]
  },
  {
   "cell_type": "code",
   "execution_count": 3,
   "metadata": {},
   "outputs": [
    {
     "name": "stdout",
     "output_type": "stream",
     "text": [
      "some function has been called!\n",
      "some other function has been called!\n"
     ]
    },
    {
     "data": {
      "text/plain": [
       "0"
      ]
     },
     "execution_count": 3,
     "metadata": {},
     "output_type": "execute_result"
    }
   ],
   "source": [
    "def some_func():\n",
    "    print(\"some function has been called!\")\n",
    "\n",
    "def some_other_func():\n",
    "    print(\"some other function has been called!\")\n",
    "\n",
    "qt_app = QApplication.instance()\n",
    "button = QPushButton(\"Call some function\")\n",
    "\n",
    "button.clicked.connect(some_func)\n",
    "#         ^               ^\n",
    "#       signal           slot\n",
    "\n",
    "button.clicked.connect(some_other_func) # We can connect multiple slots to a signal.\n",
    "\n",
    "button.show()\n",
    "qt_app.exec_()"
   ]
  },
  {
   "cell_type": "markdown",
   "metadata": {},
   "source": [
    "Whenever the button is clicked, Qt finds out which button, and emits the signal for that button, like this:"
   ]
  },
  {
   "cell_type": "code",
   "execution_count": 4,
   "metadata": {},
   "outputs": [
    {
     "name": "stdout",
     "output_type": "stream",
     "text": [
      "some function has been called!\n",
      "some other function has been called!\n"
     ]
    }
   ],
   "source": [
    "button.clicked.emit()"
   ]
  },
  {
   "cell_type": "markdown",
   "metadata": {},
   "source": [
    "Signals can be emitted in other ways, for example using the `QTimer`. We can also create our own signals and use them outside of the graphical components, and emit them as we want;"
   ]
  },
  {
   "cell_type": "code",
   "execution_count": 5,
   "metadata": {},
   "outputs": [],
   "source": [
    "class MyCounter(QObject): # QObject is necessary for signals\n",
    "    my_signal = pyqtSignal(int)\n",
    "\n",
    "    def __init__(self, initial_value):\n",
    "        super().__init__()\n",
    "        self.count = initial_value\n",
    "        \n",
    "    def increment(self):\n",
    "        self.count += 1\n",
    "        self.my_signal.emit(self.count)"
   ]
  },
  {
   "cell_type": "code",
   "execution_count": 6,
   "metadata": {},
   "outputs": [],
   "source": [
    "c = MyCounter(42)\n",
    "c.my_signal.connect(lambda x: print(f\"Counter is now at {x}\"))"
   ]
  },
  {
   "cell_type": "code",
   "execution_count": 7,
   "metadata": {},
   "outputs": [
    {
     "name": "stdout",
     "output_type": "stream",
     "text": [
      "Counter is now at 43\n"
     ]
    }
   ],
   "source": [
    "c.increment()"
   ]
  },
  {
   "cell_type": "markdown",
   "metadata": {},
   "source": [
    "# Model View Controller (MVC)"
   ]
  },
  {
   "attachments": {
    "200px-MVC-Process.svg.png": {
     "image/png": "[encoded data removed]"
    }
   },
   "cell_type": "markdown",
   "metadata": {},
   "source": [
    "From wikipedia:\n",
    "\n",
    "![200px-MVC-Process.svg.png](attachment:200px-MVC-Process.svg.png)\n",
    "\n",
    "* A controller can send commands to the model to update the model's state (e.g., editing a document). It can also send commands to its associated view to change the view's *presentation* of the model (e.g., by scrolling through a document).\n",
    "* A model notifies its associated views and controllers when there has been a change in its state. This notification allows the views to produce updated output, and the controllers to change the available set of commands. In some cases an MVC implementation might instead be \"passive,\" so that other components must poll the model for updates rather than being notified.\n",
    "* A view either gets information via the signal, or requests information from the model (after being triggered by a signal) that it uses to generate an output representation to the user.\n",
    "\n",
    "The model is presicely that of the *state* described earlier.\n",
    "\n",
    "The controller is typically part of the *view*, e.g. selecting an object represented by some icon in the *view*.\n",
    "\n",
    "**Note** It is important to respect the one-way flow of information here; the view should be *passive*, only ever update itself if informed by a model to do so. The model contains the logic, and knows when values have changed.\n",
    "Only changes that only affect the representation of the model may be directly handled in the view (e.g. switching from portrait to landscape mode when you turn your phone while using an app)."
   ]
  },
  {
   "cell_type": "markdown",
   "metadata": {},
   "source": [
    "## QStringListModel and QStringListView"
   ]
  },
  {
   "cell_type": "markdown",
   "metadata": {},
   "source": [
    "A simple example is that of predefined QStringListModel and QStringListView. The QStringListView incorporates the role of the Controller as well (as expected)."
   ]
  },
  {
   "cell_type": "markdown",
   "metadata": {},
   "source": [
    "First, lets try the normal list widgets to see the problem"
   ]
  },
  {
   "cell_type": "code",
   "execution_count": 22,
   "metadata": {},
   "outputs": [
    {
     "data": {
      "text/plain": [
       "0"
      ]
     },
     "execution_count": 22,
     "metadata": {},
     "output_type": "execute_result"
    }
   ],
   "source": [
    "qt_app = QApplication.instance()\n",
    "\n",
    "data = [\"one\", \"two\", \"three\", \"four\", \"five\"]\n",
    "\n",
    "combobox = QComboBox()\n",
    "combobox.addItems(data)\n",
    "combobox.show()\n",
    "\n",
    "\n",
    "listWidget = QListWidget()\n",
    "listWidget.addItems(data)\n",
    "for i in range(listWidget.count()):\n",
    "    item = listWidget.item(i)\n",
    "    item.setFlags( item.flags() | Qt.ItemIsEditable )\n",
    "listWidget.show()\n",
    "\n",
    "qt_app.exec_()"
   ]
  },
  {
   "cell_type": "markdown",
   "metadata": {},
   "source": [
    "As expected. When modifying the list widget, the information in the combobox does not update. This is because the widgets store copies of the data, and never modifies it."
   ]
  },
  {
   "cell_type": "code",
   "execution_count": 9,
   "metadata": {},
   "outputs": [
    {
     "data": {
      "text/plain": [
       "0"
      ]
     },
     "execution_count": 9,
     "metadata": {},
     "output_type": "execute_result"
    }
   ],
   "source": [
    "qt_app = QApplication.instance()\n",
    "\n",
    "data = [\"one\", \"two\", \"three\", \"four\", \"five\"]\n",
    "\n",
    "model = QStringListModel(data)\n",
    "# We can hook in anything \n",
    "#model.dataChanged.connect(lambda idx: print(\"The data was modified!\", idx.row()))\n",
    "\n",
    "combobox = QComboBox()\n",
    "combobox.setModel(model)\n",
    "combobox.show()\n",
    " \n",
    "listView = QListView()\n",
    "listView.setModel(model)\n",
    "listView.show()\n",
    "\n",
    "qt_app.exec_()"
   ]
  },
  {
   "cell_type": "markdown",
   "metadata": {},
   "source": [
    "1. The views don't story copies of the data. The views always represent the state in the model by storing a *reference* to the model.\n",
    "2. The secondary view is updated as soon as the other is modified. \n",
    "\n",
    "The events go roughly like this:\n",
    " * Each *View* has a `setModel` (or equivalent, like an init method) method which does 2 things\n",
    "      - The View stores a *reference* to the model so that it can fetch up to date data when it needs to.\n",
    "      - The View adds a slot to something like a \"`dataChanged`\"-signal in the Model to keep track of when data changes.\n",
    " * The user edits the first view window. The controller modifies the model by calling `setData` or equivalent.\n",
    " * The `setData` method in the Model emits a `dataChanged` signal (regardless of how the `setData` happened to be called).\n",
    " * The connected slots (callback methods) in every view is called by the emitted signal, and each view use the data sent directly in the signal and/or ask the model for whatever data they need to represent.\n",
    "\n",
    "One has to be careful as to not modify the data (state) without emitting the `dataChanged` signal (e.g. if you subclass QStringListModel)"
   ]
  },
  {
   "cell_type": "markdown",
   "metadata": {},
   "source": [
    "Lets make a *View* to go along with our `MyCounter` *Model* we made earlier:"
   ]
  },
  {
   "cell_type": "code",
   "execution_count": 10,
   "metadata": {},
   "outputs": [
    {
     "name": "stdout",
     "output_type": "stream",
     "text": [
      "Counter is now at 44\n",
      "Counter is now at 45\n"
     ]
    },
    {
     "data": {
      "text/plain": [
       "0"
      ]
     },
     "execution_count": 10,
     "metadata": {},
     "output_type": "execute_result"
    }
   ],
   "source": [
    "class MyCounterView(QWidget):\n",
    "    def __init__(self, model):\n",
    "        super().__init__()\n",
    "        # Let us store this in self to have a convenient reference to it later:\n",
    "        self.model = model\n",
    "        self.counter_label = QLabel()\n",
    "        \n",
    "        # but we won't need to access this again in this simple application:\n",
    "        button = QPushButton(\"Increment\")\n",
    "        button.clicked.connect(self.button_click)\n",
    "\n",
    "        # Present the information to the user:\n",
    "        vbox = QVBoxLayout()\n",
    "        vbox.addWidget(self.counter_label)\n",
    "        vbox.addWidget(button)\n",
    "        self.setLayout(vbox)\n",
    "        \n",
    "        # This is a View, we need to listen to our model to know when we should update the representation:\n",
    "        self.model.my_signal.connect(self.update_count)\n",
    "        \n",
    "        # Lets also trigger it once from the start so we're up-to-date.\n",
    "        self.update_count()\n",
    "    \n",
    "    def button_click(self):\n",
    "        self.model.increment()\n",
    "\n",
    "    def update_count(self):\n",
    "        self.counter_label.setText(f'{self.model.count}')\n",
    "\n",
    "\n",
    "win = MyCounterView(c)\n",
    "win.show()\n",
    "qt_app.exec_()"
   ]
  },
  {
   "cell_type": "markdown",
   "metadata": {},
   "source": [
    "# Subclassing and Model+View example"
   ]
  },
  {
   "cell_type": "markdown",
   "metadata": {},
   "source": [
    "There are many components in Qt that are meant to be subclassed, such as `QAbstractListModel`, which allows for convenient access to the signal system used in the `QStringListModel`, but for lists that might be of a different type (e.g. a list of chess pieces for a game).\n",
    "\n",
    "Sometimes subclasses are just there to add a piece of useful information, or a small specialization. For example a simple QGraphicsScene that has a specialized background image:"
   ]
  },
  {
   "cell_type": "code",
   "execution_count": 11,
   "metadata": {},
   "outputs": [],
   "source": [
    "class TableScene(QGraphicsScene):\n",
    "    \"\"\" A scene with a table cloth background \"\"\"\n",
    "    def __init__(self):\n",
    "        super().__init__()\n",
    "        self.tile = QPixmap('cards/table.png')\n",
    "        self.setBackgroundBrush(QBrush(self.tile))"
   ]
  },
  {
   "cell_type": "markdown",
   "metadata": {},
   "source": [
    "And a QGraphicsSvgItem that also keeps track of it's local number (the number is really useful later when the user clicks on a the image)"
   ]
  },
  {
   "cell_type": "code",
   "execution_count": 12,
   "metadata": {},
   "outputs": [],
   "source": [
    "from PyQt5.QtSvg import *\n",
    "\n",
    "class CardItem(QGraphicsSvgItem):\n",
    "    \"\"\" A simple overloaded QGraphicsSvgItem that also stores the card position \"\"\"\n",
    "    def __init__(self, renderer, position):\n",
    "        super().__init__()\n",
    "        self.setSharedRenderer(renderer)\n",
    "        self.position = position"
   ]
  },
  {
   "cell_type": "code",
   "execution_count": 13,
   "metadata": {},
   "outputs": [],
   "source": [
    "def read_cards():\n",
    "    \"\"\"\n",
    "    Reads all the 52 cards from files.\n",
    "    :return: Dictionary of SVG renderers\n",
    "    \"\"\"\n",
    "    all_cards = dict()  # Dictionaries let us have convenient mappings between cards and their images\n",
    "    for suit in 'HDSC':  # You'll need to map your suits to the filenames here. You are expected to change this!\n",
    "        for value_file, value in zip(['2', '3', '4', '5', '6', '7', '8', '9', '10', 'J', 'Q', 'K', 'A'], range(2, 15)):\n",
    "            file = value_file + suit\n",
    "            key = (value, suit)  # I'm choosing this tuple to be the key for this dictionary\n",
    "            all_cards[key] = QSvgRenderer('cards/' + file + '.svg')\n",
    "    return all_cards"
   ]
  },
  {
   "cell_type": "markdown",
   "metadata": {},
   "source": [
    "**NOTE**: This following example doesn't rely on any card game library. It is not intended to be used in your assignment without several critical modifications."
   ]
  },
  {
   "cell_type": "code",
   "execution_count": 14,
   "metadata": {},
   "outputs": [],
   "source": [
    "# A trivial card class (you should use the stuff you made in your library instead!\n",
    "class MySimpleCard:\n",
    "    def __init__(self, value, suit):\n",
    "        self.value = value\n",
    "        self.suit = suit\n",
    "\n",
    "    def get_value(self):\n",
    "        return self.value\n",
    "\n",
    "# You have made a class similar to this (hopefully):\n",
    "class Hand:\n",
    "    def __init__(self):\n",
    "        # Lets use some hardcoded values for most of this to start with\n",
    "        self.cards = [MySimpleCard(13, 'H'), MySimpleCard(7, 'D'), MySimpleCard(13, 'S')]\n",
    "\n",
    "    def add_card(self, card):\n",
    "        self.cards.append(card)"
   ]
  },
  {
   "cell_type": "markdown",
   "metadata": {},
   "source": [
    "Lets put in the requirements of the card model as an abstract interface. To have a functional \"View\" of a container of playing cards, we definitely need:\n",
    "1. A signal that should be emitted when content change.\n",
    "2. An iterator over the cards\n",
    "3. An abstract method indicating whether or not the cards are flipped down."
   ]
  },
  {
   "cell_type": "code",
   "execution_count": 15,
   "metadata": {},
   "outputs": [],
   "source": [
    "import abc\n",
    "\n",
    "class CardModel(QObject):\n",
    "    \"\"\" Base class that described what is expected from the CardView widget \"\"\"\n",
    "\n",
    "    new_cards = pyqtSignal()  #: Signal should be emited when cards change.\n",
    "\n",
    "    @abc.abstractmethod\n",
    "    def __iter__(self):\n",
    "        \"\"\"Returns an iterator of card objects\"\"\"\n",
    "\n",
    "    @abc.abstractmethod\n",
    "    def flipped(self):\n",
    "        \"\"\"Returns true of cards should be drawn face down\"\"\""
   ]
  },
  {
   "cell_type": "markdown",
   "metadata": {},
   "source": [
    "We can extend this class to create a model, which updates the view whenever it has changed.\n",
    "This is just to make a small demo that you can use. You are free to modify.\n",
    "\n",
    "Lets put in a simple *Model* for now. Something which represent a Hand, with all the necesssary aspects of a `CardModel`:"
   ]
  },
  {
   "cell_type": "code",
   "execution_count": 16,
   "metadata": {},
   "outputs": [],
   "source": [
    "class HandModel(Hand, CardModel):\n",
    "    def __init__(self):\n",
    "        Hand.__init__(self)\n",
    "        CardModel.__init__(self)\n",
    "        # Additional state needed by the UI\n",
    "        self.flipped_cards = False\n",
    "\n",
    "    def __iter__(self):\n",
    "        return iter(self.cards)\n",
    "\n",
    "    def flip(self):\n",
    "        # Flips over the cards (to hide them)\n",
    "        self.flipped_cards = not self.flipped_cards\n",
    "        self.new_cards.emit()  # something changed, better emit the signal!\n",
    "\n",
    "    def flipped(self):\n",
    "        # This model only flips all or no cards, so we don't care about the index.\n",
    "        # Might be different for other games though!\n",
    "        return self.flipped_cards\n",
    "\n",
    "    def add_card(self, card):\n",
    "        super().add_card(card)\n",
    "        self.new_cards.emit()  # something changed, better emit the signal!\n"
   ]
  },
  {
   "cell_type": "markdown",
   "metadata": {},
   "source": [
    "And the big overloaded class, QGraphicsView. This is now a CardView widget, with a specialized constructor. It displays the state from the given card model input. By listening to the appropriate signal, it can be set up to automatically renew the graphics whenever the models emits its signal."
   ]
  },
  {
   "cell_type": "code",
   "execution_count": 17,
   "metadata": {},
   "outputs": [],
   "source": [
    "class CardView(QGraphicsView):\n",
    "    \"\"\" A View widget that represents the table area displaying a players cards. \"\"\"\n",
    "\n",
    "    # We read all the card graphics as static class variables\n",
    "    back_card = QSvgRenderer('cards/Red_Back_2.svg')\n",
    "    all_cards = read_cards()\n",
    "\n",
    "    def __init__(self, card_model: CardModel, card_spacing: int = 250, padding: int = 10):\n",
    "        \"\"\"\n",
    "        Initializes the view to display the content of the given model\n",
    "        :param cards_model: A model that represents a set of cards. Needs to support the CardModel interface.\n",
    "        :param card_spacing: Spacing between the visualized cards.\n",
    "        :param padding: Padding of table area around the visualized cards.\n",
    "        \"\"\"\n",
    "        self.scene = TableScene()\n",
    "        super().__init__(self.scene)\n",
    "\n",
    "        self.card_spacing = card_spacing\n",
    "        self.padding = padding\n",
    "\n",
    "        self.model = card_model\n",
    "        # Whenever the this window should update, it should call the \"__change_cards\" method.\n",
    "        # This view can do so by listening to the matching signal:\n",
    "        card_model.new_cards.connect(self.__change_cards)\n",
    "\n",
    "        # Add the cards the first time around to represent the initial state.\n",
    "        self.__change_cards()\n",
    "\n",
    "    def __change_cards(self):  # double underscore indicates that this is a private method\n",
    "        # Add the cards from scratch\n",
    "        self.scene.clear()\n",
    "        for i, card in enumerate(self.model):\n",
    "            # The ID of the card in the dictionary of images is a tuple with (value, suit), both integers\n",
    "            graphics_key = (card.get_value(), card.suit)\n",
    "            renderer = self.back_card if self.model.flipped() else self.all_cards[graphics_key]\n",
    "            c = CardItem(renderer, i)\n",
    "\n",
    "            # Shadow effects are cool!\n",
    "            shadow = QGraphicsDropShadowEffect(c)\n",
    "            shadow.setBlurRadius(10.)\n",
    "            shadow.setOffset(5, 5)\n",
    "            shadow.setColor(QColor(0, 0, 0, 180))  # Semi-transparent black!\n",
    "            c.setGraphicsEffect(shadow)\n",
    "\n",
    "            # Place the cards on the default positions\n",
    "            c.setPos(c.position * self.card_spacing, 0)\n",
    "            # We could also do cool things like marking card by making them transparent if we wanted to!\n",
    "            # c.setOpacity(0.5 if self.model.marked(i) else 1.0)\n",
    "            self.scene.addItem(c)\n",
    "\n",
    "        self.update_view()\n",
    "\n",
    "    def update_view(self):\n",
    "        scale = (self.viewport().height()-2*self.padding)/313\n",
    "        self.resetTransform()\n",
    "        self.scale(scale, scale)\n",
    "        # Put the scene bounding box\n",
    "        self.setSceneRect(-self.padding//scale, -self.padding//scale,\n",
    "                          self.viewport().width()//scale, self.viewport().height()//scale)\n",
    "\n",
    "    def resizeEvent(self, painter):\n",
    "        # This method is called when the window is resized.\n",
    "        # If the widget is resize, we gotta adjust the card sizes.\n",
    "        # QGraphicsView automatically re-paints everything when we modify the scene.\n",
    "        self.update_view()\n",
    "        super().resizeEvent(painter)\n",
    "\n",
    "    # This is the Controller part of the GUI, handling input events that modify the Model\n",
    "    # def mousePressEvent(self, event):\n",
    "    #    # We can check which item, if any, that we clicked on by fetching the scene items (neat!)\n",
    "    #    pos = self.mapToScene(event.pos())\n",
    "    #    item = self.scene.itemAt(pos, self.transform())\n",
    "    #    if item is not None:\n",
    "    #        # Report back that the user clicked on the card at given position:\n",
    "    #        # The model can choose to do whatever it wants with this information.\n",
    "    #        self.model.clicked_position(item.position)\n",
    "\n",
    "    # You can remove these events if you don't need them.\n",
    "    def mouseDoubleClickEvent(self, event):\n",
    "        self.model.flip() # Another possible event. Lets add it to the flip functionality for fun!"
   ]
  },
  {
   "cell_type": "markdown",
   "metadata": {},
   "source": [
    "Lets test it out"
   ]
  },
  {
   "cell_type": "code",
   "execution_count": 18,
   "metadata": {},
   "outputs": [
    {
     "data": {
      "text/plain": [
       "0"
      ]
     },
     "execution_count": 18,
     "metadata": {},
     "output_type": "execute_result"
    }
   ],
   "source": [
    "qt_app = QApplication.instance()\n",
    "hand = HandModel()\n",
    "\n",
    "card_view = CardView(hand, card_spacing=50)\n",
    "\n",
    "button = QPushButton(\"Flip!\")\n",
    "button.clicked.connect(hand.flip)\n",
    "\n",
    "# Creating a small demo window to work with, and put the card_view inside:\n",
    "box = QVBoxLayout()\n",
    "box.addWidget(card_view)\n",
    "box.addWidget(button)\n",
    "player_view = QGroupBox(\"Player 1\")\n",
    "player_view.setLayout(box)\n",
    "\n",
    "player_view.show()\n",
    "\n",
    "qt_app.exec_()\n"
   ]
  },
  {
   "cell_type": "markdown",
   "metadata": {},
   "source": [
    "# Live coding demo/homework: Make a text-based View widget for CardModel"
   ]
  },
  {
   "cell_type": "markdown",
   "metadata": {},
   "source": [
    "# Summary"
   ]
  },
  {
   "cell_type": "markdown",
   "metadata": {},
   "source": [
    "* Separation of concerns: The *model* is the logic of the application; it should be the ground truth of all the state and contain the logic for mutating it. The *view* (and only the view) should concern itself with how this data is presented.\n",
    "* The *model* should emit signals when something has happened/changed. The view should listen to these signals."
   ]
  },
  {
   "cell_type": "markdown",
   "metadata": {},
   "source": [
    "# Simple game example (live demo)"
   ]
  },
  {
   "cell_type": "markdown",
   "metadata": {},
   "source": [
    "This purpose of this game is to fight over the computer, and manage to click your button 10 times before the opponent. For this we have 2 buttons and 2 labels. We utilize Qt signals to communicate between the model and the view/controller.\n",
    "\n",
    "*We will revisit this AddOneGame in the next lecture and improve upon it's design!*"
   ]
  },
  {
   "cell_type": "code",
   "execution_count": 19,
   "metadata": {},
   "outputs": [],
   "source": [
    "class AddOneGame(QObject):\n",
    "    \n",
    "    new_total = pyqtSignal()\n",
    "    winner = pyqtSignal((str,))\n",
    "    \n",
    "    def __init__(self):\n",
    "        super().__init__() # Don't forget super init when inheriting!\n",
    "        self.players = ['Micke', 'Thomas']\n",
    "        self.total = [0,0]\n",
    "    \n",
    "    def player_click(self, index):\n",
    "        self.total[index] += 1\n",
    "        self.new_total.emit()  # order matters!\n",
    "        self.check_winner()\n",
    "    \n",
    "    def reset(self):\n",
    "        self.total = [0, 0]\n",
    "        self.new_total.emit()\n",
    "    \n",
    "    def check_winner(self):\n",
    "        for total, player in zip(self.total, self.players):\n",
    "            if total >= 10:\n",
    "                self.winner.emit(player + \" won!\")\n",
    "                self.reset()"
   ]
  },
  {
   "cell_type": "code",
   "execution_count": 20,
   "metadata": {},
   "outputs": [],
   "source": [
    "class GameView(QWidget):\n",
    "    def __init__(self, game_model):\n",
    "        super().__init__()\n",
    "        \n",
    "        # The init method for views should always be quite familiar; it has a section for creating widgets\n",
    "        buttons = [QPushButton(game_model.players[0]), QPushButton(game_model.players[1])]\n",
    "        self.labels = [QLabel(), QLabel()]\n",
    "        # then arranging them in the desired layout\n",
    "        vbox = QVBoxLayout()\n",
    "        vbox.addWidget(buttons[0])\n",
    "        vbox.addWidget(self.labels[0])\n",
    "        vbox.addWidget(buttons[1])\n",
    "        vbox.addWidget(self.labels[1])\n",
    "\n",
    "        reset_button = QPushButton('Reset')\n",
    "        vbox.addWidget(reset_button)\n",
    "\n",
    "        self.setLayout(vbox)\n",
    "\n",
    "        # Controller part happens to be inside this widget as well application\n",
    "        def player0_click(): game_model.player_click(0)\n",
    "        buttons[0].clicked.connect(player0_click)\n",
    "        def player1_click(): game_model.player_click(1)\n",
    "        buttons[1].clicked.connect(player1_click)\n",
    "        reset_button.clicked.connect(game_model.reset)\n",
    "        \n",
    "        # almost always storing a reference to the related model\n",
    "        self.game = game_model\n",
    "        # and connecting some method for updating the state to the corresponding signals\n",
    "        game_model.new_total.connect(self.update_labels)\n",
    "        game_model.winner.connect(self.alert_winner)\n",
    "        # and giving it an initial update so that we show the initial state\n",
    "        self.update_labels()\n",
    "        \n",
    "        # This also happens to be the main window, so we can opt to show it immediately\n",
    "        # (we could also very well leave this up to the caller)\n",
    "        self.show()\n",
    "      \n",
    "        \n",
    "    def update_labels(self):\n",
    "        for i in range(2): self.labels[i].setText('Points: {}'.format(self.game.total[i]))\n",
    "\n",
    "    def alert_winner(self, text: str):\n",
    "        msg = QMessageBox()\n",
    "        msg.setText(text)\n",
    "        msg.exec()"
   ]
  },
  {
   "cell_type": "code",
   "execution_count": 21,
   "metadata": {},
   "outputs": [
    {
     "data": {
      "text/plain": [
       "0"
      ]
     },
     "execution_count": 21,
     "metadata": {},
     "output_type": "execute_result"
    }
   ],
   "source": [
    "qt_app = QApplication.instance()\n",
    "game = AddOneGame()\n",
    "view = GameView(game)\n",
    "qt_app.exec_()"
   ]
  },
  {
   "cell_type": "code",
   "execution_count": null,
   "metadata": {},
   "outputs": [],
   "source": []
  }
 ],
 "metadata": {
  "anaconda-cloud": {},
  "kernelspec": {
   "display_name": "Python 3 (ipykernel)",
   "language": "python",
   "name": "python3"
  },
  "language_info": {
   "codemirror_mode": {
    "name": "ipython",
    "version": 3
   },
   "file_extension": ".py",
   "mimetype": "text/x-python",
   "name": "python",
   "nbconvert_exporter": "python",
   "pygments_lexer": "ipython3",
   "version": "3.9.7"
  }
 },
 "nbformat": 4,
 "nbformat_minor": 1
}
