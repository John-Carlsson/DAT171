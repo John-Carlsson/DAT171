{
 "cells": [
  {
   "cell_type": "markdown",
   "metadata": {},
   "source": [
    "# Lecture 9\n",
    "\n",
    "Lecture 9 will cover operator overloading and iterators.\n",
    "\n",
    "Reference\n",
    " * [2] Section 9.8-9.10\n",
    " \n",
    "Other reading:\n",
    " * https://www.geeksforgeeks.org/operator-overloading-in-python/\n",
    " * https://realpython.com/operator-function-overloading/\n",
    " * https://www.tutorialsteacher.com/python/magic-methods-in-python \n",
    " * https://www.w3schools.com/python/python_iterators.asp\n",
    " * https://www.programiz.com/python-programming/iterator"
   ]
  },
  {
   "cell_type": "markdown",
   "metadata": {},
   "source": [
    "# Operator overloading special methods"
   ]
  },
  {
   "cell_type": "markdown",
   "metadata": {},
   "source": [
    "You have seen a few overloaded operators, but there are several important methods.\n",
    "\n",
    "They are all named according to `__name__` convention (two underscores around the name). These methods are sometimes called \"magic methods\" or \"dunder methods\".\n",
    "\n",
    "List of a bunch of magic methods: https://rszalski.github.io/magicmethods/"
   ]
  },
  {
   "cell_type": "markdown",
   "metadata": {},
   "source": [
    "Some (possibly useful) *unary* (only taking one argument) operators:\n",
    "* repr: `repr(x)` (data **repr**esentation)\n",
    "* len: `len(x)`\n",
    "* abs: `abs(x)`\n",
    "* neg: `-a`\n",
    "\n",
    "and many other things\n",
    "\n",
    "\n",
    "Common conversions:\n",
    "* str\n",
    "* int\n",
    "* float\n",
    "* complex\n",
    "* bool"
   ]
  },
  {
   "cell_type": "markdown",
   "metadata": {},
   "source": [
    "Lets test out a bunch of these:"
   ]
  },
  {
   "cell_type": "code",
   "execution_count": null,
   "metadata": {},
   "outputs": [],
   "source": [
    "class MyClass:\n",
    "    def __init__(self, x):\n",
    "        self.x = x\n",
    "\n",
    "    # \"truthyness\"\n",
    "    def __bool__(self):\n",
    "        return self.x > 0\n",
    "\n",
    "    def __len__(self):\n",
    "        return self.x\n",
    "\n",
    "    def __neg__(self):\n",
    "        return MyClass(-self.x)\n",
    "\n",
    "    def __str__(self):\n",
    "        return \"x = \" + str(self.x)\n",
    "    \n",
    "    def __repr__(self):\n",
    "        return \"MyClass(\" + repr(self.x) + \")\""
   ]
  },
  {
   "cell_type": "code",
   "execution_count": null,
   "metadata": {},
   "outputs": [],
   "source": [
    "x = MyClass(3)\n",
    "print(f\"{x} has length {len(x)}\")\n",
    "if x:\n",
    "    print(\"x is truthy\")\n",
    "print([x, -x])\n",
    "y = -x\n",
    "if y:\n",
    "    print(\"y is truthy\")\n",
    "else:\n",
    "    print(\"y is NOT truthy\")"
   ]
  },
  {
   "cell_type": "code",
   "execution_count": null,
   "metadata": {},
   "outputs": [],
   "source": [
    "num = 0\n",
    "if num:\n",
    "    print(\"It was truthy\")"
   ]
  },
  {
   "cell_type": "markdown",
   "metadata": {},
   "source": [
    "### Binary operators"
   ]
  },
  {
   "cell_type": "markdown",
   "metadata": {},
   "source": [
    "There are a massive amount of binary operators (two argument functions) one can overload: `+ * - / // | & << **`.\n",
    "\n",
    "Infix operator: Operator goes between the operands, for example `a * b`.\n",
    "\n",
    "If is often in the case that both sides of the infix operator has the same type, and the output from the computation is also of the same type, but this is not strictly necessary.\n",
    "\n",
    "Python will call the suitable special method by doing `a + b === a.__add__(b)`, with similar names for the multitude of other operators (`mul`, `div`, etc.), If `a.__add__` isn't found, then the corresponding \"reverse\" operation is used: `b.__radd__(a)` (if available).\n",
    "\n",
    "Many operators have extended assignments as well, and these can be accessed through special methods as well, e.g.\n",
    "`a += b` which becomes `a = a.__iadd__(b)`."
   ]
  },
  {
   "cell_type": "code",
   "execution_count": null,
   "metadata": {},
   "outputs": [],
   "source": [
    "l = [1,2,3]\n",
    "l2 = l\n",
    "l = l + [4,5]\n",
    "print(l)\n",
    "print(l2)"
   ]
  },
  {
   "cell_type": "code",
   "execution_count": null,
   "metadata": {},
   "outputs": [],
   "source": []
  },
  {
   "cell_type": "code",
   "execution_count": null,
   "metadata": {},
   "outputs": [],
   "source": [
    "import math\n",
    "\n",
    "class Fraction:\n",
    "    \n",
    "    @staticmethod\n",
    "    def _normalize(num, denom):\n",
    "        d = math.gcd(num, denom)\n",
    "        return num // d, denom // d\n",
    "\n",
    "    def __init__(self, num: int, denom: int):\n",
    "        self.num, self.denom = self._normalize(num, denom)\n",
    "\n",
    "    def __str__(self):\n",
    "        return str(self.num) + \"/\" + str(self.denom)\n",
    "    \n",
    "    def __float__(self):\n",
    "        return self.num / self.denom\n",
    "\n",
    "    def __add__(self, other: Fraction):\n",
    "        # Expecting \"other\" to be a Fraction.\n",
    "        # The result is a Fraction as well.\n",
    "        return Fraction(self.num * other.denom + other.num * self.denom,\n",
    "                        self.denom * other.denom)\n",
    "    \n",
    "    def __iadd__(self, other: Fraction):\n",
    "        # self += other\n",
    "        # We want to modify \"self\"!\n",
    "        # Note: mutating conceptually immutable things (like numbers) can\n",
    "        # make the code confusing\n",
    "        num = self.num * other.denom + other.num * self.denom\n",
    "        denom = self.denom * other.denom\n",
    "        self.num, self.denom = self._normalize(num, denom)\n",
    "        return self\n",
    "        \n",
    "    def __mul__(self, other: int):\n",
    "        return Fraction(self.num * other.num, self.denom * other.denom)\n",
    "\n",
    "    def __pow__(self, exponent: int):\n",
    "        # This assumes that the exponent is an integer\n",
    "        return Fraction(self.num ** exponent, self.denom ** exponent)"
   ]
  },
  {
   "cell_type": "code",
   "execution_count": null,
   "metadata": {},
   "outputs": [],
   "source": [
    "x = Fraction(3, 4)\n",
    "y = Fraction(2, 3)\n",
    "x2 = x\n",
    "\n",
    "print(f\"x = {x}\")\n",
    "print(f\"x2 = {x2}\")\n",
    "print(f\"y = {y}\")\n",
    "\n",
    "\n",
    "q = y ** 2\n",
    "x += q\n",
    "z = x + y\n",
    "w = x * y\n",
    "\n",
    "print(\"----\")\n",
    "print(f\"x = {x}\")\n",
    "print(f\"x2 = {x2} !!!!!\") # Note!\n",
    "print(f\"float(z) = {float(z)}\")\n",
    "print(f\"q = {q}\")\n",
    "print(f\"w = {w}\")"
   ]
  },
  {
   "cell_type": "markdown",
   "metadata": {},
   "source": [
    "**Questions**:\n",
    "* In Python, will `a + b` always give the same result as `b + a`? \n",
    "* How about `a * b` and `b * a`?\n",
    "* Will `a += b` always be the same as `a = a + b`?'"
   ]
  },
  {
   "cell_type": "markdown",
   "metadata": {},
   "source": [
    "### Comparison operators"
   ]
  },
  {
   "cell_type": "markdown",
   "metadata": {},
   "source": [
    "Comparison operators have a few special rules, because they have no \"reversed\" operations.\n",
    "Instead, `a < b` is used like `b > a` when `>`-operation is missing.\n",
    "\n",
    "Implementing at least one comparison operator from `__lt__`, `__gt__` or `__cmp__` is necessary for comparisons (sort will try them in that order). Typically, `__lt__` is implemented."
   ]
  },
  {
   "cell_type": "code",
   "execution_count": null,
   "metadata": {},
   "outputs": [],
   "source": [
    "class MyTestClass:\n",
    "    \"\"\" A test class where only one instance \n",
    "    variable determines the comparison operators\n",
    "    \"\"\"\n",
    "    \n",
    "    def __init__(self, val, val2):\n",
    "        self.val = val\n",
    "        self.val2 = val2\n",
    "\n",
    "    def __eq__(self, other):\n",
    "        return abs(self.val) == abs(other.val)\n",
    "\n",
    "    def __lt__(self, other): # We only check the magnitude:\n",
    "        return abs(self.val) < abs(other.val)\n"
   ]
  },
  {
   "cell_type": "code",
   "execution_count": null,
   "metadata": {},
   "outputs": [],
   "source": [
    "x = MyTestClass(-34, \"Hello\")\n",
    "y = MyTestClass(34, \"World\")\n",
    "print(x > y) # Python will look for a match, and will call y < x (which should be mathematically equivalent)\n",
    "print(x == y)"
   ]
  },
  {
   "cell_type": "code",
   "execution_count": null,
   "metadata": {},
   "outputs": [],
   "source": [
    "x = MyTestClass(34, \"Hello\")\n",
    "y = MyTestClass(-40, \"World\")\n",
    "l = [x, y, y, x]\n",
    "l.sort()\n",
    "print(l)"
   ]
  },
  {
   "cell_type": "markdown",
   "metadata": {},
   "source": [
    "If `__eq__` is not implemented, the `is` operator is used instead."
   ]
  },
  {
   "cell_type": "code",
   "execution_count": null,
   "metadata": {},
   "outputs": [],
   "source": [
    "class MyTestClass():\n",
    "    def __init__(self, val):\n",
    "        self.val = val\n",
    "\n",
    "    def __lt__(self, other): # We only check the magnitude:\n",
    "        return abs(self.val) < abs(other.val)"
   ]
  },
  {
   "cell_type": "code",
   "execution_count": null,
   "metadata": {},
   "outputs": [],
   "source": [
    "x = MyTestClass(23)\n",
    "y = MyTestClass(23)\n",
    "print(x == y)\n",
    "print(x == x)"
   ]
  },
  {
   "cell_type": "code",
   "execution_count": null,
   "metadata": {},
   "outputs": [],
   "source": [
    "x"
   ]
  },
  {
   "cell_type": "code",
   "execution_count": null,
   "metadata": {},
   "outputs": [],
   "source": [
    "y"
   ]
  },
  {
   "cell_type": "markdown",
   "metadata": {},
   "source": [
    "This strange default behavior is rarely what we want! Therefore, `__eq__` is recommended to overload if `__lt__` has been overloaded."
   ]
  },
  {
   "cell_type": "markdown",
   "metadata": {},
   "source": [
    "## Indexing overloading"
   ]
  },
  {
   "cell_type": "code",
   "execution_count": null,
   "metadata": {},
   "outputs": [],
   "source": [
    "class LoggingList(list):\n",
    "    def __setitem__(self, pos, val):\n",
    "        print(f\"Setting items {val} at: {pos}\")\n",
    "        super().__setitem__(pos, val)\n",
    "        \n",
    "    def __getitem__(self, pos):\n",
    "        print(f\"Getting items at: {pos}\")\n",
    "        return super().__getitem__(pos)\n",
    "\n",
    "    def __delitem__(self, pos):\n",
    "        print(f\"Deleting items at: {pos}\")\n",
    "        return super().__delitem__(pos)"
   ]
  },
  {
   "cell_type": "code",
   "execution_count": null,
   "metadata": {},
   "outputs": [],
   "source": [
    "x = LoggingList()\n",
    "x += [1,2,3,4] #      __iadd__ is called\n",
    "\n",
    "x[0:2] = [123, 456] # __setitem__ is called\n",
    "y = x[2:] #           __getitem__ is called\n",
    "print(y)\n",
    "del x[0] #            __delitem__ is called\n",
    "print(x)"
   ]
  },
  {
   "cell_type": "markdown",
   "metadata": {},
   "source": [
    "Note that `a:b:c` is just shorthand for creating a `slice` object.\n",
    "While this is the most common use for the  `__***item__` methods, this is not at all required, e.g:"
   ]
  },
  {
   "cell_type": "code",
   "execution_count": null,
   "metadata": {},
   "outputs": [],
   "source": [
    "class IdentityMatrix:\n",
    "    def __getitem__(self, row_and_col):\n",
    "        print(f\"Getting items at: {row_and_col}\")\n",
    "        row, col = row_and_col\n",
    "        return 1 if row == col else 0\n",
    "\n",
    "eye = IdentityMatrix()\n",
    "print(eye[4,5], eye[7,7])"
   ]
  },
  {
   "cell_type": "code",
   "execution_count": null,
   "metadata": {},
   "outputs": [],
   "source": [
    "class CaseInsensitiveDataBase:\n",
    "    def __init__(self):\n",
    "        # Some made up data for this example:\n",
    "        self.dataset = {'A': 7, 'B': 4, 'C': 7, 'D': 0}\n",
    "\n",
    "    def __getitem__(self, entries):\n",
    "        return [self.dataset[entry.upper()] for entry in entries]\n",
    "\n",
    "db = CaseInsensitiveDataBase()\n",
    "print(db['b', 'd'])"
   ]
  },
  {
   "cell_type": "markdown",
   "metadata": {},
   "source": [
    "## Comment on methods vs operators"
   ]
  },
  {
   "cell_type": "markdown",
   "metadata": {},
   "source": [
    "This kind of compact notation is often sought by programmers, why have\n",
    "```python\n",
    "x.add(y)\n",
    "```\n",
    "when you could have\n",
    "```python\n",
    "x + y\n",
    "```\n",
    "\n",
    "But it's often the case that we are not working with mathematics, but strings, lists, graphical objects, and other types of custom objects.\n",
    "Therefore, it's often not clear what the operator will actually do (languages like Java disallow this operator overloading for this reason).\n",
    "\n",
    "When comparing two Car-objects, do we just check if they are of the same model? Same color? Model and color? Same registration number? Top speed?\n",
    "\n",
    "Operators should not be overused, since it is often more clear to write a descriptive method name. Use it only when the purpose is clear.\n",
    "\n",
    "Operator overloading:\n",
    "```python\n",
    "elf = Elf()\n",
    "dwarf = Dwarf()\n",
    "elf += Bow()\n",
    "dwarf += Axe()\n",
    "elf >> frodo\n",
    "dwarf >> frodo\n",
    "```\n",
    "\n",
    "Well named methods:\n",
    "```python\n",
    "elf = Elf()\n",
    "dwarf = Dwarf()\n",
    "elf.add_weapon(Bow())\n",
    "dwarf.add_weapon(Axe())\n",
    "elf.pledge_alligence(frodo)\n",
    "dwarf.pledge_alligence(frodo)\n",
    "```"
   ]
  },
  {
   "cell_type": "markdown",
   "metadata": {},
   "source": [
    "### Exercise \n",
    "\n",
    "(maybe too big to do during lecture but you can start):\n",
    "\n",
    "- Create a class called `Polynomial`.\n",
    "- Create a constructor that takes coefficients for the polynomial, e.g: `Polynomial(1,2,2)` represents `x^2 + 2x + 2`.\n",
    "- Create a `__str__` method that prints it nicely.\n",
    "- Overload `__add__`, `__neg__`, `__mul__` etc.\n",
    "- Create the `derivative` method returning a new `Polynomial`.\n",
    "- Overload `__call__` to evaluate the polynomial for some `x`.\n",
    "\n",
    "Example usage:\n",
    "\n",
    "```python\n",
    ">>> p = Polynomial(1,2,2)\n",
    "\n",
    ">>> print(p)\n",
    "x^2 + 2x + 2\n",
    "\n",
    ">>> print(p + Polynomial(3,2,1,2))\n",
    "x^3 + 3x^2 + 3x + 4\n",
    "\n",
    ">>> print(p.derivative())\n",
    "2x + x\n",
    "\n",
    ">>> p(2.0)\n",
    "10.0\n",
    "```"
   ]
  },
  {
   "cell_type": "markdown",
   "metadata": {},
   "source": [
    "# Iterators and generators"
   ]
  },
  {
   "cell_type": "markdown",
   "metadata": {},
   "source": [
    "In the course so far, we've used multiple examples of the for-loop:"
   ]
  },
  {
   "cell_type": "code",
   "execution_count": null,
   "metadata": {},
   "outputs": [],
   "source": [
    "for i in range(5):\n",
    "    print(i, end=\",\")"
   ]
  },
  {
   "cell_type": "code",
   "execution_count": null,
   "metadata": {},
   "outputs": [],
   "source": [
    "for x in \"Hello World\":\n",
    "    print(x, end=\", \")"
   ]
  },
  {
   "cell_type": "code",
   "execution_count": null,
   "metadata": {},
   "outputs": [],
   "source": [
    "for x in zip([6,3,4], \"ABC\"):\n",
    "    print(x, end=\", \")"
   ]
  },
  {
   "cell_type": "markdown",
   "metadata": {},
   "source": [
    "All these examples are very different. The `range` keeps generating new numbers until the max value is reached. In the string, we go letter by letter until the end of the string.\n",
    "The `for`-loop is compact, convenient, and easy to read."
   ]
  },
  {
   "cell_type": "markdown",
   "metadata": {},
   "source": [
    "### The `for`-loop"
   ]
  },
  {
   "cell_type": "markdown",
   "metadata": {},
   "source": [
    "Lets assume we have a loop like:\n",
    "```python\n",
    "for a in b:\n",
    "    ...\n",
    "```\n",
    "When the `for`-loop starts, it asks for\n",
    "```python\n",
    "it = iter(b)    # Looks for b.__iter__()\n",
    "```\n",
    "and then it asks for\n",
    "```python\n",
    "a = next(it)    # Looks for it.__next__()\n",
    "```\n",
    "until a `StopIteration`-exception is raised."
   ]
  },
  {
   "cell_type": "markdown",
   "metadata": {},
   "source": [
    "Lets try it out, step-by-step"
   ]
  },
  {
   "cell_type": "code",
   "execution_count": null,
   "metadata": {},
   "outputs": [],
   "source": [
    "b = \"Hello\"\n",
    "it = iter(b)\n",
    "print(it)"
   ]
  },
  {
   "cell_type": "code",
   "execution_count": null,
   "metadata": {},
   "outputs": [],
   "source": [
    "print( next(it) )\n",
    "print( next(it) )\n",
    "print( next(it) )\n",
    "print( next(it) )\n",
    "print( next(it) )"
   ]
  },
  {
   "cell_type": "markdown",
   "metadata": {},
   "source": [
    "So far so good, what happens when we ask one more time?"
   ]
  },
  {
   "cell_type": "code",
   "execution_count": null,
   "metadata": {},
   "outputs": [],
   "source": [
    "next(it)"
   ]
  },
  {
   "cell_type": "markdown",
   "metadata": {},
   "source": [
    "**To sum it up:** \n",
    "1. The object needs support the function `iter`\n",
    "2. Whatever it returned from `iter` must support the function `next`"
   ]
  },
  {
   "cell_type": "markdown",
   "metadata": {},
   "source": [
    "### Lets create a custom iterator"
   ]
  },
  {
   "cell_type": "code",
   "execution_count": null,
   "metadata": {},
   "outputs": [],
   "source": [
    "# https://en.wikipedia.org/wiki/Collatz_conjecture\n",
    "class CollatzGenerator:\n",
    "    def __init__(self, n):\n",
    "        self.n = n\n",
    "\n",
    "    def __iter__(self):\n",
    "        # We'll reuse the class generator itself \n",
    "        # as the iterator for this simple case\n",
    "        return self\n",
    "    \n",
    "    def __next__(self):\n",
    "        if self.n == 1:\n",
    "            raise StopIteration\n",
    "        if self.n % 2 == 0:\n",
    "            self.n //= 2\n",
    "        else:\n",
    "            self.n = self.n*3 + 1\n",
    "        \n",
    "        return self.n"
   ]
  },
  {
   "cell_type": "code",
   "execution_count": null,
   "metadata": {},
   "outputs": [],
   "source": [
    "# This should produce 3, 10, 5, 16, 8, 4, 2, 1.\n",
    "x = CollatzGenerator(6)\n",
    "for n in x:\n",
    "    print(n, end=\", \")"
   ]
  },
  {
   "cell_type": "markdown",
   "metadata": {},
   "source": [
    "Note! In this `CollatzGenerator`, the iterator is the same as the generator itself.\n",
    "If we try to use `x` again, it will already have reached 1, as the (modified) iterator *is* the generator."
   ]
  },
  {
   "cell_type": "code",
   "execution_count": null,
   "metadata": {},
   "outputs": [],
   "source": [
    "print(x.n)"
   ]
  },
  {
   "cell_type": "code",
   "execution_count": null,
   "metadata": {},
   "outputs": [],
   "source": [
    "for n in x:\n",
    "    print(n, end=\", \")"
   ]
  },
  {
   "cell_type": "code",
   "execution_count": null,
   "metadata": {},
   "outputs": [],
   "source": [
    "r = range(10)"
   ]
  },
  {
   "cell_type": "code",
   "execution_count": null,
   "metadata": {},
   "outputs": [],
   "source": [
    "for i in r:\n",
    "    print(n, end=\", \")"
   ]
  },
  {
   "cell_type": "code",
   "execution_count": null,
   "metadata": {},
   "outputs": [],
   "source": [
    "for i in r:\n",
    "    print(n, end=\", \")"
   ]
  },
  {
   "cell_type": "markdown",
   "metadata": {},
   "source": [
    "### Another example, the infinite loop!"
   ]
  },
  {
   "cell_type": "markdown",
   "metadata": {},
   "source": [
    "Lets create a loop over all natural numbers. We would like to have\n",
    "```python\n",
    "nat = NaturalNumbers():\n",
    "for x in nat:\n",
    "   ...\n",
    "```\n",
    "Of course, it's not very good that we modified the starting point of the `nat` (in case we want to reuse it).\n",
    "\n",
    "We should therefor avoid `def __iter__(self): return self`, and instead return a different iterator."
   ]
  },
  {
   "cell_type": "code",
   "execution_count": null,
   "metadata": {},
   "outputs": [],
   "source": [
    "class NaturalNumbers:\n",
    "    def __iter__(self):\n",
    "        # Lets declare an iterator internally:\n",
    "        class NaturalNumbers_It:\n",
    "            def __init__(self):\n",
    "                self.n = 0\n",
    "       \n",
    "            def __next__(self):\n",
    "                self.n += 1\n",
    "                return self.n\n",
    "        # Each time we start a for-loop, \n",
    "        # we'll return a brand new iterator:\n",
    "        return NaturalNumbers_It()"
   ]
  },
  {
   "cell_type": "code",
   "execution_count": null,
   "metadata": {},
   "outputs": [],
   "source": [
    "nat = NaturalNumbers()"
   ]
  },
  {
   "cell_type": "code",
   "execution_count": null,
   "metadata": {},
   "outputs": [],
   "source": [
    "tot = 0\n",
    "for x in nat:\n",
    "    tot += x\n",
    "    # We might have some condition to stop that \n",
    "    # doesn't depend on only one the value of x!\n",
    "    if tot > 1000:\n",
    "        break\n",
    "print(tot, x)"
   ]
  },
  {
   "cell_type": "markdown",
   "metadata": {},
   "source": [
    "## Generators"
   ]
  },
  {
   "cell_type": "markdown",
   "metadata": {},
   "source": [
    "The interested student can also look up the `yield` statement. For example here:\n",
    "http://www.python-course.eu/python3_generators.php\n",
    "\n",
    "The for-loop will obtain each `yield`'ed value, and the function will be frozen until the next yielded value is requested. This type of functions are often called \"coroutines\":"
   ]
  },
  {
   "cell_type": "code",
   "execution_count": null,
   "metadata": {},
   "outputs": [],
   "source": [
    "def countfromto(a, b):\n",
    "    while a < b:\n",
    "        print(\"Yielding a new value!\")\n",
    "        yield a\n",
    "        a += 1\n",
    "\n",
    "for i in countfromto(10, 15):\n",
    "    print(i)"
   ]
  },
  {
   "cell_type": "code",
   "execution_count": null,
   "metadata": {},
   "outputs": [],
   "source": [
    "v = countfromto(10, 15)\n",
    "print(next(v))\n",
    "print(next(v))\n",
    "print(next(v))\n",
    "print(next(v))\n",
    "print(next(v))\n",
    "print(next(v))"
   ]
  },
  {
   "cell_type": "markdown",
   "metadata": {},
   "source": [
    "Can make writing iterators more terse:"
   ]
  },
  {
   "cell_type": "code",
   "execution_count": null,
   "metadata": {},
   "outputs": [],
   "source": [
    "# https://en.wikipedia.org/wiki/Collatz_conjecture\n",
    "def collatz(n):\n",
    "    while n != 1:\n",
    "        yield n\n",
    "        if n % 2 == 0:\n",
    "            n //= 2\n",
    "        else:\n",
    "            n = n*3 + 1\n",
    "    yield(n)"
   ]
  },
  {
   "cell_type": "code",
   "execution_count": null,
   "metadata": {},
   "outputs": [],
   "source": [
    "list(collatz(25))"
   ]
  },
  {
   "cell_type": "markdown",
   "metadata": {},
   "source": [
    "### Exercise \n",
    "\n",
    "- Create an iterator that iterates the prime numbers.\n",
    "- Now do the same using a generator\n",
    "- Create an iterator `taketwo` that grabs 2 elements from another iterator at once, returning a tuple\n",
    "\n",
    "```python\n",
    "for a, b in taketwo(range(6)):\n",
    "    print(a, b)  # prints 0,1 then 2,3 then 4,5\n",
    "```"
   ]
  },
  {
   "cell_type": "code",
   "execution_count": null,
   "metadata": {},
   "outputs": [],
   "source": []
  }
 ],
 "metadata": {
  "kernelspec": {
   "display_name": "Python 3",
   "language": "python",
   "name": "python3"
  },
  "language_info": {
   "codemirror_mode": {
    "name": "ipython",
    "version": 3
   },
   "file_extension": ".py",
   "mimetype": "text/x-python",
   "name": "python",
   "nbconvert_exporter": "python",
   "pygments_lexer": "ipython3",
   "version": "3.9.10"
  }
 },
 "nbformat": 4,
 "nbformat_minor": 1
}
