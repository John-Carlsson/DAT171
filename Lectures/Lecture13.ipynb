{
 "cells": [
  {
   "cell_type": "markdown",
   "metadata": {},
   "source": [
    "Lecture 13 will cover further go into examples on how to tie the GUI-widgets to the application logic by looking into more on the signal handling in Qt."
   ]
  },
  {
   "cell_type": "markdown",
   "metadata": {},
   "source": [
    "First a bit of standard stuff needed to work with Qt"
   ]
  },
  {
   "cell_type": "code",
   "execution_count": 1,
   "metadata": {},
   "outputs": [],
   "source": [
    "from PyQt5.QtCore import *\n",
    "from PyQt5.QtGui import *\n",
    "from PyQt5.QtWidgets import *\n",
    "import sys\n",
    "qt_app = QApplication(sys.argv)"
   ]
  },
  {
   "cell_type": "markdown",
   "metadata": {},
   "source": [
    "# Signals"
   ]
  },
  {
   "cell_type": "markdown",
   "metadata": {},
   "source": [
    "Lets start by creating a simpel model that emits a signal when the data has been modified."
   ]
  },
  {
   "cell_type": "code",
   "execution_count": 2,
   "metadata": {},
   "outputs": [],
   "source": [
    "class MyCounterModel(QObject):\n",
    "    # We create a new signal\n",
    "    new_count = pyqtSignal()\n",
    "    warning = pyqtSignal(str,)\n",
    "    \n",
    "    def __init__(self):\n",
    "        super().__init__()\n",
    "        self.count = 1\n",
    "\n",
    "    def value(self):\n",
    "        return self.count\n",
    "\n",
    "    def increment(self, val=1):\n",
    "        if val > 100:\n",
    "            self.warning.emit('Input value to high!')\n",
    "        else:\n",
    "            self.count += val\n",
    "            self.new_count.emit()\n"
   ]
  },
  {
   "cell_type": "code",
   "execution_count": 3,
   "metadata": {},
   "outputs": [],
   "source": [
    "class MyCounterView(QWidget):\n",
    "    def __init__(self, model):\n",
    "        super().__init__()\n",
    "        self.button = QPushButton(\"Add 1\")\n",
    "        self.doubler = QPushButton(\"Double\")\n",
    "        self.label = QLabel()\n",
    "\n",
    "        layout = QHBoxLayout()\n",
    "        layout.addWidget(self.button)\n",
    "        layout.addWidget(self.doubler)\n",
    "        layout.addWidget(self.label)\n",
    "        self.setLayout(layout)\n",
    "\n",
    "        # Connect logic:\n",
    "        # View part:\n",
    "        self.model = model\n",
    "        model.new_count.connect(self.update_value)\n",
    "        model.warning.connect(self.display_warning)\n",
    "        \n",
    "        # Controller part:\n",
    "        def add_one():\n",
    "            model.increment()\n",
    "        self.button.clicked.connect(add_one)\n",
    "        \n",
    "        def double_up():\n",
    "            x = model.value()\n",
    "            model.increment(x)       \n",
    "        self.doubler.clicked.connect(double_up)\n",
    "        \n",
    "        self.update_value()  # Make sure it's up-to-date from the start.\n",
    "    \n",
    "    def update_value(self):\n",
    "        self.label.setText(\"Value is \" + str(self.model.value()))\n",
    "        \n",
    "    def display_warning(self, text):\n",
    "        print(text)  # Display this to the user, somehow"
   ]
  },
  {
   "cell_type": "code",
   "execution_count": 4,
   "metadata": {},
   "outputs": [
    {
     "name": "stdout",
     "output_type": "stream",
     "text": [
      "Input value to high!\n"
     ]
    },
    {
     "data": {
      "text/plain": [
       "0"
      ]
     },
     "execution_count": 4,
     "metadata": {},
     "output_type": "execute_result"
    }
   ],
   "source": [
    "qt_app = QApplication.instance()\n",
    "\n",
    "counter = MyCounterModel()\n",
    "view = MyCounterView(counter)\n",
    "view.show()\n",
    "\n",
    "qt_app.exec_()"
   ]
  },
  {
   "cell_type": "markdown",
   "metadata": {},
   "source": [
    "Lets start adressing the strange parts:\n",
    "* The signal is declared as a static variable (class variable).\n",
    "* The pyqtSignal() object doesn't actually have a connect or emit method.\n",
    "\n",
    "It's all \"magic\" that the initialization of QObject takes care of. You don't need know how it happens, just how to use it.\n",
    "*In order to use pyqtSignal()'s the class needs to inherit from QObject.*"
   ]
  },
  {
   "cell_type": "markdown",
   "metadata": {},
   "source": [
    "# Creating reuseable Model and View components"
   ]
  },
  {
   "cell_type": "markdown",
   "metadata": {},
   "source": [
    "Many games render the whole view using a single drawing area (not unlike the CardView class illustrated last lecture), and in these cases, there is really only 1 view that displays one 1 model, though for a more complex software it becomes completely unfeasable to keep track of all the state.\n",
    "\n",
    "As such, it is typically better to create smaller Model's and View's that have a clear and simple purpose, and simply rely on those in the rest of the code.\n",
    "\n",
    "Such components is typically simpler, with a clear purpose, and can be reuseable."
   ]
  },
  {
   "cell_type": "markdown",
   "metadata": {},
   "source": [
    "## Revisiting the AddOne game from lecture 12\n",
    "We can revisit the previous game, but tackle the signals and model design with smaller models and views that take care of themselves:"
   ]
  },
  {
   "cell_type": "code",
   "execution_count": 5,
   "metadata": {},
   "outputs": [],
   "source": [
    "class PointModel(QObject):\n",
    "    # This point model has 1 purpose: ensuring the signal is emitted whenever the value is changed\n",
    "    new_value = pyqtSignal()\n",
    "\n",
    "    def __init__(self):\n",
    "        super().__init__()\n",
    "        self.value = 0\n",
    "    \n",
    "    def add_one(self):\n",
    "        self.value += 1\n",
    "        self.new_value.emit()\n",
    "\n",
    "    def clear(self):\n",
    "        self.value = 0\n",
    "        self.new_value.emit()\n",
    "\n",
    "\n",
    "class Player:\n",
    "    def __init__(self, name):\n",
    "        self.name = name\n",
    "        # The Player class does not need to concern itself with any signals\n",
    "        # since the PointModel handles that itself!\n",
    "        self.total = PointModel()\n",
    "\n",
    "\n",
    "class AddOneGame(QObject):\n",
    "    winner = pyqtSignal((str,))\n",
    "    \n",
    "    def __init__(self):\n",
    "        super().__init__()\n",
    "        self.players = [Player(name) for name in ['Micke', 'Kim', 'Thomas']]\n",
    "    \n",
    "    def player_click(self, index):\n",
    "        # We must make sure not to directly modify total.value, else we won't let it emit its signal!\n",
    "        # But the code in the \"complex\" AddOneGame is now much simpler;\n",
    "        # No need to keep track of updating signals for all the values here, just pure game logic!\n",
    "        self.players[index].total.add_one()\n",
    "        self.check_winner()\n",
    "    \n",
    "    def reset(self):\n",
    "        for player in self.players:\n",
    "            player.total.clear()\n",
    "    \n",
    "    def check_winner(self):\n",
    "        for player in self.players:\n",
    "            if player.total.value >= 10:\n",
    "                self.winner.emit(player.name + \" won!\")\n",
    "                self.reset()\n",
    "                break"
   ]
  },
  {
   "cell_type": "markdown",
   "metadata": {},
   "source": [
    "**Emphasis**:\n",
    "Note how the models above only contain state and logic. No graphical elements at all, no information on how it is displayed. It might just as well be played on the command line!\n",
    "\n",
    "Below we will now introduce the View(s), which contain **no logic at all**. They make no assumptions on when the points are updated. They only decide how to display the state of the model to the user, and present the options for how to control the model."
   ]
  },
  {
   "cell_type": "code",
   "execution_count": 6,
   "metadata": {},
   "outputs": [],
   "source": [
    "class PointView(QLabel):\n",
    "    # The point view only needs to know about the PointModel and how to best display it, listening to the signal\n",
    "    def __init__(self, point_model: PointModel):\n",
    "        super().__init__()\n",
    "        self.point_model = point_model\n",
    "        self.point_model.new_value.connect(self.update_label)\n",
    "        self.update_label()  # Initial refresh of textfield\n",
    "\n",
    "    def update_label(self):\n",
    "        self.setText(f'Points: {self.point_model.value}')\n",
    "\n",
    "\n",
    "class PlayerView(QGroupBox):\n",
    "    def __init__(self, player: Player, game: AddOneGame, player_number: int):\n",
    "        super().__init__(player.name)\n",
    "\n",
    "        # Connect button event to register in the game model:\n",
    "        button = QPushButton('Add one')\n",
    "        def click_event():\n",
    "            return game.player_click(player_number)\n",
    "        button.clicked.connect(click_event)\n",
    "\n",
    "        # Set the layout of this player view:\n",
    "        vbox = QVBoxLayout()\n",
    "        vbox.addWidget(PointView(player.total))\n",
    "        vbox.addWidget(button)\n",
    "        self.setLayout(vbox)\n",
    "    \n",
    "\n",
    "class GameView(QWidget):\n",
    "    def __init__(self, game_model):\n",
    "        super().__init__()\n",
    "        \n",
    "        vbox = QVBoxLayout()\n",
    "        for i, player in enumerate(game_model.players):\n",
    "            vbox.addWidget(PlayerView(player, game, i))\n",
    "\n",
    "        reset_button = QPushButton('Reset')\n",
    "        reset_button.clicked.connect(game_model.reset)\n",
    "        \n",
    "        vbox.addWidget(reset_button)\n",
    "        \n",
    "        self.setLayout(vbox)\n",
    "        self.show()\n",
    "\n",
    "        # Connect the last signal:\n",
    "        self.game = game_model\n",
    "        game_model.winner.connect(self.alert_winner)\n",
    "\n",
    "    def alert_winner(self, text: str):\n",
    "        msg = QMessageBox()\n",
    "        msg.setText(text)\n",
    "        msg.exec()"
   ]
  },
  {
   "cell_type": "code",
   "execution_count": 7,
   "metadata": {},
   "outputs": [
    {
     "data": {
      "text/plain": [
       "0"
      ]
     },
     "execution_count": 7,
     "metadata": {},
     "output_type": "execute_result"
    }
   ],
   "source": [
    "qt_app = QApplication.instance()\n",
    "game = AddOneGame()\n",
    "view = GameView(game)\n",
    "qt_app.exec_()"
   ]
  },
  {
   "cell_type": "markdown",
   "metadata": {},
   "source": [
    "# When to split off things to its own \"sub-model\"\n",
    "\n",
    "This is a more subjective design question. Certainly, noone would split a complex number into a model for the real and imaginary parts respectively.\n",
    "\n",
    "For example, strongly associated values\n",
    "\n",
    "- Coordinate; longitud and latitude\n",
    "- Brush shape in a drawing application; radius, sharpness\n",
    "- Player money; how much money available and how much currently betted\n",
    "- List of recent filenames\n",
    "\n",
    "it seems logical that these could be their own class.\n",
    "\n",
    "But what about When we have a collection of losely connected things, such as a \"Player\" model that contains the money and the cards on hand?\n",
    "These often don't change at the same time, and have basically no overlap in functionality.\n",
    "It is almost certainly neater, cleaner, and easier to reason about the code if these were kept separately.\n",
    "\n",
    "Keeping separate signals also allows us to avoid unnecessary updating of variables that might not have changed; making for a snappier application"
   ]
  },
  {
   "cell_type": "markdown",
   "metadata": {},
   "source": [
    "## Another game example"
   ]
  },
  {
   "cell_type": "code",
   "execution_count": 8,
   "metadata": {},
   "outputs": [],
   "source": [
    "# This is a simple game. The players take turn add 1 through 3, until they reach 20. The player who gets 20 (or higher) wins.\n",
    "# This simple game doesn't motivate the complex design here, but the purpose was to illustrate the local states.\n",
    "class GameState(QObject):\n",
    "    # We might have multiple signals! One for updates\n",
    "    data_changed = pyqtSignal()\n",
    "    # and one for messaging\n",
    "    game_message = pyqtSignal((str,)) # (x,) is the notation for a tuple with just one value!\n",
    "\n",
    "    def __init__(self, players):\n",
    "        super().__init__()\n",
    "        self.running = False\n",
    "        self.players = players\n",
    "        self.player_turn = -1\n",
    "        self.total = 0\n",
    "        \n",
    "    def start(self):\n",
    "        if self.running:\n",
    "            self.game_message.emit(\"Can't start game. Game already running\")\n",
    "        \n",
    "        self.running = True\n",
    "        self.player_turn = 0\n",
    "        self.total = 0\n",
    "        self.players[self.player_turn].set_active(True)\n",
    "        self.data_changed.emit()\n",
    "\n",
    "    def add(self, num):\n",
    "        # Called when a player adds a value (this also switches the players turn)\n",
    "        self.total += num\n",
    "        if self.total >= 20:\n",
    "            winner = self.players[self.player_turn]\n",
    "            self.game_message.emit(\"Player {} won!\".format(winner.name))\n",
    "            winner.won()\n",
    "            self.total = 0\n",
    "\n",
    "        self.players[self.player_turn].set_active(False)\n",
    "        self.player_turn = (self.player_turn + 1) % len(self.players)\n",
    "        self.players[self.player_turn].set_active(True)\n",
    "        self.data_changed.emit()\n",
    "\n",
    "# A simple player state. It keeps track of the score.\n",
    "class PlayerState(QObject):\n",
    "\n",
    "    data_changed = pyqtSignal()\n",
    "    \n",
    "    def __init__(self, name):\n",
    "        super().__init__()\n",
    "        self.name = name\n",
    "        self.wins = 0\n",
    "        self.active = False\n",
    "    \n",
    "    def set_active(self, active):\n",
    "        self.active = active\n",
    "        self.data_changed.emit()\n",
    "\n",
    "    def won(self):\n",
    "        self.wins += 1\n",
    "        self.data_changed.emit()"
   ]
  },
  {
   "cell_type": "code",
   "execution_count": 9,
   "metadata": {},
   "outputs": [],
   "source": [
    "class PlayerView(QGroupBox):\n",
    "    def __init__(self, player, game):\n",
    "        super().__init__(player.name)\n",
    "        self.player = player\n",
    "        \n",
    "        layout = QVBoxLayout()\n",
    "        self.setLayout(layout)\n",
    "\n",
    "        self.wins = QLabel()\n",
    "        layout.addWidget(self.wins)\n",
    "\n",
    "        self.buttons = []\n",
    "        for b in range(3):\n",
    "            button = QPushButton(\"Add {}\".format(b+1))\n",
    "            self.buttons.append(button)\n",
    "            layout.addWidget(button)\n",
    "            #button.clicked.connect( lambda : game.add(b+1) )\n",
    "\n",
    "        def add_1(): game.add(1)\n",
    "        def add_2(): game.add(2)\n",
    "        def add_3(): game.add(3)\n",
    "        self.buttons[0].clicked.connect(add_1)\n",
    "        self.buttons[1].clicked.connect(add_2)\n",
    "        self.buttons[2].clicked.connect(add_3)\n",
    "\n",
    "        player.data_changed.connect(self.update)\n",
    "        self.update()\n",
    "\n",
    "    def update(self):\n",
    "        self.wins.setText(\"Wins: \" + str(self.player.wins))\n",
    "        for b in self.buttons:\n",
    "            b.setEnabled(self.player.active)"
   ]
  },
  {
   "cell_type": "code",
   "execution_count": 10,
   "metadata": {},
   "outputs": [],
   "source": [
    "class GameView(QWidget):\n",
    "    def __init__(self, game):\n",
    "        super().__init__()\n",
    "    \n",
    "        self.game = game\n",
    "        \n",
    "        layoutv = QVBoxLayout()\n",
    "        self.setLayout(layoutv)\n",
    "\n",
    "        self.total_label = QLabel(\"uninitialized\")\n",
    "        layoutv.addWidget(self.total_label)\n",
    "        \n",
    "        layouth = QHBoxLayout()\n",
    "        layoutv.addLayout(layouth)\n",
    "        \n",
    "        self.player_views = []\n",
    "        for p in game.players:\n",
    "            player_view = PlayerView(p, game)\n",
    "            self.player_views.append(player_view)\n",
    "            layouth.addWidget(player_view)\n",
    "\n",
    "        game.game_message.connect(self.alert_user)\n",
    "        game.data_changed.connect(self.update)\n",
    "        game.start() # We start as soon as we get a view!\n",
    "        self.update()\n",
    "\n",
    "    def alert_user(self, text):\n",
    "        # A method like this is nice to have for showing if the game is over, \n",
    "        # or warn about faulty input.\n",
    "        box = QMessageBox()\n",
    "        box.setText(text)\n",
    "        box.exec_()\n",
    "        \n",
    "    def update(self):\n",
    "        self.total_label.setText(\"Total: \" + str(self.game.total))"
   ]
  },
  {
   "cell_type": "code",
   "execution_count": 12,
   "metadata": {},
   "outputs": [
    {
     "data": {
      "text/plain": [
       "0"
      ]
     },
     "execution_count": 12,
     "metadata": {},
     "output_type": "execute_result"
    }
   ],
   "source": [
    "qt_app = QApplication.instance()\n",
    "\n",
    "model = GameState([PlayerState(\"Micke\"), PlayerState(\"Thomas\")])\n",
    "view = GameView(model)\n",
    "view.show()\n",
    "\n",
    "qt_app.exec_()"
   ]
  },
  {
   "cell_type": "markdown",
   "metadata": {},
   "source": [
    "The view and controller (as they are typically bundled) has 3 means of communication;\n",
    "* View: A reference to the model of which it can ask what to display (e.g. what cards the player has, how much money is in the pot, whose turn it is)\n",
    "* View: A signal to connect the \"update\" method to (which may or may not send information)\n",
    "* Controller: Methods on the Model to pass information back after user interaction.\n",
    "\n",
    "As we can see, even if we have a widget that represents one player-model, it doens't mean that widget reports changes back to that player-model. *\n",
    "Typical in games (and many other applications), we have a overreaching game logic which needs to take the input."
   ]
  },
  {
   "cell_type": "markdown",
   "metadata": {},
   "source": [
    "## Tell or ask?"
   ]
  },
  {
   "cell_type": "markdown",
   "metadata": {},
   "source": [
    "What is best?\n",
    "* The Model sends a empty signal and the View(s) ask the Model for the information it needs.\n",
    "* The Model sends the information in the signal\n",
    "\n",
    "Probably no right answer, but there are some scenarions when passing a temporary state along might be the only reasonable option;\n",
    "* Message/warning to the user\n",
    "* The change of a value (e.g. how much it increased)\n",
    "* Which index in a list model that was modified\n"
   ]
  },
  {
   "cell_type": "code",
   "execution_count": null,
   "metadata": {},
   "outputs": [],
   "source": []
  }
 ],
 "metadata": {
  "anaconda-cloud": {},
  "kernelspec": {
   "display_name": "Python 3 (ipykernel)",
   "language": "python",
   "name": "python3"
  },
  "language_info": {
   "codemirror_mode": {
    "name": "ipython",
    "version": 3
   },
   "file_extension": ".py",
   "mimetype": "text/x-python",
   "name": "python",
   "nbconvert_exporter": "python",
   "pygments_lexer": "ipython3",
   "version": "3.9.7"
  }
 },
 "nbformat": 4,
 "nbformat_minor": 1
}
