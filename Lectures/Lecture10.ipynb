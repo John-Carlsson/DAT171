{
 "cells": [
  {
   "cell_type": "markdown",
   "metadata": {},
   "source": [
    "# Lecture 10\n",
    "\n",
    "Lecture 10 will cover decorators and error handling.\n",
    "\n",
    "Reference\n",
    " * [2] Section 9.8-9.10\n",
    " \n",
    "See also:\n",
    "- https://www.datacamp.com/community/tutorials/decorators-python\n",
    "- https://realpython.com/primer-on-python-decorators/\n",
    "- https://www.programiz.com/python-programming/exception-handling\n",
    "- https://docs.python.org/3/tutorial/errors.html\n",
    " "
   ]
  },
  {
   "cell_type": "markdown",
   "metadata": {},
   "source": [
    "# Static methods"
   ]
  },
  {
   "cell_type": "markdown",
   "metadata": {},
   "source": [
    "Static methods are methods that don't have access to the object itself (no `self` argument).\n",
    "\n",
    "Why are these needed?\n",
    "\n",
    "Usually helper functions that \"belong\" to the class itself (i.e. are independent of actual instances)"
   ]
  },
  {
   "cell_type": "code",
   "execution_count": 1,
   "metadata": {},
   "outputs": [],
   "source": [
    "class Car:\n",
    "    america = True\n",
    "\n",
    "    @staticmethod\n",
    "    def kph2mph(speed):\n",
    "        return speed / 1.60934\n",
    "\n",
    "    def __init__(self, brand, model, vel):\n",
    "        self.brand = brand\n",
    "        self.model = model\n",
    "        self.velocity = vel\n",
    "\n",
    "    def __str__(self):\n",
    "        speed = self.velocity\n",
    "        unit = \"kph\"\n",
    "        if self.america:\n",
    "            speed = self.kph2mph(speed)\n",
    "            unit = \"mph\"\n",
    "        return f\"Model: {self.brand} {self.model} going at {round(speed, 2)}{unit}\""
   ]
  },
  {
   "cell_type": "code",
   "execution_count": 2,
   "metadata": {},
   "outputs": [
    {
     "name": "stdout",
     "output_type": "stream",
     "text": [
      "Model: Tesla Roadster going at 249.79mph\n"
     ]
    }
   ],
   "source": [
    "car1 = Car(\"Tesla\", \"Roadster\", 402)\n",
    "print(car1)"
   ]
  },
  {
   "cell_type": "code",
   "execution_count": 3,
   "metadata": {},
   "outputs": [
    {
     "name": "stdout",
     "output_type": "stream",
     "text": [
      "Model: Tesla Roadster going at 402kph\n"
     ]
    }
   ],
   "source": [
    "Car.america = False\n",
    "print(car1)"
   ]
  },
  {
   "cell_type": "code",
   "execution_count": 4,
   "metadata": {},
   "outputs": [
    {
     "data": {
      "text/plain": [
       "249.7918401332223"
      ]
     },
     "execution_count": 4,
     "metadata": {},
     "output_type": "execute_result"
    }
   ],
   "source": [
    "Car.kph2mph(402)"
   ]
  },
  {
   "cell_type": "code",
   "execution_count": 5,
   "metadata": {},
   "outputs": [
    {
     "data": {
      "text/plain": [
       "249.7918401332223"
      ]
     },
     "execution_count": 5,
     "metadata": {},
     "output_type": "execute_result"
    }
   ],
   "source": [
    "# Can be called on the object as well\n",
    "car1.kph2mph(402)"
   ]
  },
  {
   "cell_type": "markdown",
   "metadata": {},
   "source": [
    "# Class methods"
   ]
  },
  {
   "cell_type": "markdown",
   "metadata": {},
   "source": [
    "Class methods do not get `self` but they get the type of class that got used to call the method on.\n",
    "This can be used to create \"factory methods\" in the base class that return an instance of the subclass the method is called on):"
   ]
  },
  {
   "cell_type": "code",
   "execution_count": 8,
   "metadata": {},
   "outputs": [],
   "source": [
    "class Car:\n",
    "    mph_kmp_conversion_factor = 1.60934\n",
    "    \n",
    "    @staticmethod\n",
    "    def mph2kmp(speed):\n",
    "        return speed * Car.mph_kmp_conversion_factor\n",
    "\n",
    "    def __init__(self, vel):\n",
    "        \"\"\"\n",
    "        Creates a Car\n",
    "        \n",
    "        :param vel: Top speed of car in kph\n",
    "        \"\"\"\n",
    "        self.velocity = vel\n",
    "        \n",
    "    @classmethod\n",
    "    def from_mph(cls, velocity):\n",
    "        print(cls)\n",
    "        new_velocity = Car.mph2kmp(velocity)\n",
    "        return cls(new_velocity)\n",
    "\n",
    "class Tesla(Car):\n",
    "    pass\n",
    "\n",
    "class Volvo(Car):\n",
    "    pass"
   ]
  },
  {
   "cell_type": "code",
   "execution_count": 9,
   "metadata": {},
   "outputs": [
    {
     "name": "stdout",
     "output_type": "stream",
     "text": [
      "<class '__main__.Tesla'>\n",
      "----\n",
      "<class '__main__.Tesla'>\n",
      "96.5604\n"
     ]
    }
   ],
   "source": [
    "t = Tesla.from_mph(60)\n",
    "print(\"----\")\n",
    "print(type(t))\n",
    "print(t.velocity)"
   ]
  },
  {
   "cell_type": "code",
   "execution_count": 10,
   "metadata": {},
   "outputs": [
    {
     "name": "stdout",
     "output_type": "stream",
     "text": [
      "<class '__main__.Volvo'>\n",
      "----\n",
      "<class '__main__.Volvo'>\n",
      "88.5137\n"
     ]
    }
   ],
   "source": [
    "v = Volvo.from_mph(55)\n",
    "print(\"----\")\n",
    "print(type(v))\n",
    "print(v.velocity)"
   ]
  },
  {
   "cell_type": "markdown",
   "metadata": {},
   "source": [
    "# Decorators"
   ]
  },
  {
   "cell_type": "markdown",
   "metadata": {},
   "source": [
    "We've seen three uses of decorators already:\n",
    "\n",
    "```python\n",
    "    @staticmethod\n",
    "    def kph2mph(speed):\n",
    "        return speed / 1.60934\n",
    "    \n",
    "    @classmethod\n",
    "    def from_mph(cls, velocity):\n",
    "        new_velocity = cls.mph2kmp(velocity)\n",
    "        return cls(new_velocity)\n",
    "        \n",
    "    @abc.abstractmethod\n",
    "    def calories(self):\n",
    "        \"\"\" Returns the number of calories in the pizza \"\"\"\n",
    "```"
   ]
  },
  {
   "cell_type": "markdown",
   "metadata": {},
   "source": [
    "In the broadest terms, decorators modify functionality. The code using `@`:\n",
    "```python\n",
    "@my_decorator\n",
    "def my_function():\n",
    "    return compute_stuff()\n",
    "```\n",
    "is basically the same as doing:\n",
    "```python\n",
    "def my_function():\n",
    "    return compute_stuff()\n",
    "my_function = my_decorator(my_function)\n",
    "```"
   ]
  },
  {
   "cell_type": "markdown",
   "metadata": {},
   "source": [
    "We can make a silly example of what it could do:"
   ]
  },
  {
   "cell_type": "code",
   "execution_count": null,
   "metadata": {},
   "outputs": [],
   "source": [
    "def always_print_hello(f):\n",
    "    def wrapper(*x):\n",
    "        print(\"Hello!\")\n",
    "        return 1+1\n",
    "    return wrapper"
   ]
  },
  {
   "cell_type": "code",
   "execution_count": null,
   "metadata": {},
   "outputs": [],
   "source": [
    "@always_print_hello\n",
    "def my_function(x, y):\n",
    "    return x+y+7\n",
    "\n",
    "my_function(3,1) + my_function(3,2)"
   ]
  },
  {
   "cell_type": "code",
   "execution_count": null,
   "metadata": {},
   "outputs": [],
   "source": [
    "@always_print_hello\n",
    "def my_function3(x):\n",
    "    return x+7\n",
    "\n",
    "my_function3(3) + my_function3(3)"
   ]
  },
  {
   "cell_type": "code",
   "execution_count": null,
   "metadata": {},
   "outputs": [],
   "source": [
    "# Achieves the same as:\n",
    "def my_function2(x):\n",
    "    return x+7\n",
    "my_function2 = always_print_hello(my_function2)\n",
    "\n",
    "my_function2(3) + my_function2(3)"
   ]
  },
  {
   "cell_type": "markdown",
   "metadata": {},
   "source": [
    "The usefulness of decorators are perhaps not immediately obvious. But with some ingenuity they can be used to enrich the language itself. For example, enforcing an `IntEnum` to be unique:"
   ]
  },
  {
   "cell_type": "code",
   "execution_count": null,
   "metadata": {},
   "outputs": [],
   "source": [
    "import enum\n",
    "@enum.unique\n",
    "class GameState(enum.IntEnum):\n",
    "    not_started = 0\n",
    "    started = 1\n",
    "    ended = 2\n",
    "    paused = 2 # Opps"
   ]
  },
  {
   "cell_type": "markdown",
   "metadata": {},
   "source": [
    "You will not be required to write any decorators on the exam, though you should know about `@staticmethod` and `@abc.abstractmethod` and how these are used.\n",
    "Abstract and static methods are re-occuring themes in object oriented languages, though they might be expressed differently (i.e. using different syntax) in different languages.\n",
    "\n",
    "Other uses of decorators are more unique \"language quirks\", and excessive use just makes the code hard to understand, so don't go crazy with them!"
   ]
  },
  {
   "cell_type": "markdown",
   "metadata": {},
   "source": [
    "Extension: Decorators taking arguments:"
   ]
  },
  {
   "cell_type": "code",
   "execution_count": null,
   "metadata": {},
   "outputs": [],
   "source": [
    "def always_print_x(x):\n",
    "    def _always_print_x(f):\n",
    "        def wrapper(*z):\n",
    "            print(f\"This is x: {x}\")\n",
    "            return f(*z)\n",
    "        return wrapper\n",
    "    return _always_print_x\n",
    "\n",
    "@always_print_x(\"foo\")\n",
    "def sumit(a, b):\n",
    "    return a + b\n",
    "\n",
    "sumit(1,2)"
   ]
  },
  {
   "cell_type": "markdown",
   "metadata": {},
   "source": [
    "### Excercises:\n",
    "    \n",
    "- Create a decorator (`@assert_postitive`) that makes a function raise an exception if the returned value is not an integer or if it is less than zero."
   ]
  },
  {
   "cell_type": "markdown",
   "metadata": {},
   "source": [
    "# Error handling"
   ]
  },
  {
   "cell_type": "markdown",
   "metadata": {},
   "source": [
    "When dealing with user input (or even programmer input, in the example above), errors are inevitable.\n",
    "We can't always know if a given piece of code will always work (i.e. cause an error on certain user inputs)\n",
    "\n",
    "The way to deal with this is to *try* to execute segments, and deal with the errors if they occur:"
   ]
  },
  {
   "cell_type": "code",
   "execution_count": null,
   "metadata": {},
   "outputs": [],
   "source": [
    "1 / y"
   ]
  },
  {
   "cell_type": "code",
   "execution_count": null,
   "metadata": {},
   "outputs": [],
   "source": [
    "for x in range(2,-1,-1):\n",
    "    print(x)\n",
    "    print(1.0 / x)"
   ]
  },
  {
   "cell_type": "code",
   "execution_count": null,
   "metadata": {},
   "outputs": [],
   "source": [
    "for x in range(2,-1,-1):\n",
    "    print(x)\n",
    "    try:\n",
    "        print(1.0 / x)\n",
    "    except:\n",
    "        print(\"inf\")"
   ]
  },
  {
   "cell_type": "markdown",
   "metadata": {},
   "source": [
    "Though, we probably want to check *what* error occured, and deal with each specifically"
   ]
  },
  {
   "cell_type": "code",
   "execution_count": null,
   "metadata": {},
   "outputs": [],
   "source": [
    "for x in range(2,-1,-1):\n",
    "    try:\n",
    "        print(1.0 / y) # Opps, wrong variable, not defined\n",
    "    except:\n",
    "        print(\"inf\") # Not correct for this error"
   ]
  },
  {
   "cell_type": "code",
   "execution_count": null,
   "metadata": {},
   "outputs": [],
   "source": [
    "for x in range(2,-1,-1):\n",
    "    try:\n",
    "        print(1.0 / x) # Opps, wrong variable, not defined\n",
    "    except ZeroDivisionError:\n",
    "        print(\"inf\")"
   ]
  },
  {
   "cell_type": "code",
   "execution_count": null,
   "metadata": {},
   "outputs": [],
   "source": [
    "stuff = [1,2,3,4]\n",
    "for x in range(8,-1,-1):\n",
    "    try:\n",
    "        print(stuff[x]) # Opps, wrong variable again\n",
    "    except ZeroDivisionError:\n",
    "        print(\"inf\")\n",
    "    except NameError:\n",
    "        print(\"Wrong symbol!\")\n",
    "    except IndexError:\n",
    "        print(\"Problematic index\")"
   ]
  },
  {
   "cell_type": "code",
   "execution_count": null,
   "metadata": {},
   "outputs": [],
   "source": [
    "x = 6\n",
    "\n",
    "[1,2,3][x]"
   ]
  },
  {
   "cell_type": "markdown",
   "metadata": {},
   "source": [
    "This is why broadly catching all errors are very bad form. Don't do it! Also, catching things like `NameError` is rarely a good idea, better to let Python error out because there is a bug in the program."
   ]
  },
  {
   "cell_type": "markdown",
   "metadata": {},
   "source": [
    "### Using \"as\" to obtain info from errors"
   ]
  },
  {
   "cell_type": "code",
   "execution_count": null,
   "metadata": {},
   "outputs": [],
   "source": [
    "import sys\n",
    "\n",
    "try:\n",
    "    f = open('filename.txt')\n",
    "    s = f.readline()\n",
    "    i = int(s.strip())\n",
    "except FileNotFoundError as e:\n",
    "    print(f\"Failed to open file {e.filename}, please try again\")"
   ]
  },
  {
   "cell_type": "code",
   "execution_count": null,
   "metadata": {},
   "outputs": [],
   "source": [
    "help(FileNotFoundError)"
   ]
  },
  {
   "cell_type": "markdown",
   "metadata": {},
   "source": [
    "### Finally and else"
   ]
  },
  {
   "cell_type": "code",
   "execution_count": null,
   "metadata": {},
   "outputs": [],
   "source": [
    "def divide(x, y):\n",
    "    try:\n",
    "        result = x / y\n",
    "    except ZeroDivisionError:\n",
    "        print(\"division by zero!\")\n",
    "        return 0 # finally will run even if function exits here\n",
    "    else:\n",
    "        # Will run if we don't have an exception first:\n",
    "        print(\"result is\", result)\n",
    "    finally:\n",
    "        # This will always be executed last\n",
    "        print(\"executing finally clause\")"
   ]
  },
  {
   "cell_type": "code",
   "execution_count": null,
   "metadata": {},
   "outputs": [],
   "source": [
    "divide(0,0)"
   ]
  },
  {
   "cell_type": "code",
   "execution_count": null,
   "metadata": {},
   "outputs": [],
   "source": [
    "divide(2,3)"
   ]
  },
  {
   "cell_type": "markdown",
   "metadata": {},
   "source": [
    "## Error propagation\n",
    "\n",
    "When an error is thrown, Python will \"unwind the stack\" (look upwards through the callers) until it find an `except` that handles the exception. Execution will continue at that point.\n",
    "\n",
    "The fact that execution can move like this can make code with a lot of `try except` very hard to understand. Use it sparingly!"
   ]
  },
  {
   "cell_type": "code",
   "execution_count": null,
   "metadata": {},
   "outputs": [],
   "source": [
    "def f1():\n",
    "    try:\n",
    "        f2()\n",
    "    except:\n",
    "        print(\"errored while calling f2\")\n",
    "    \n",
    "    \n",
    "def f2():\n",
    "    try:\n",
    "        f3()\n",
    "    except:\n",
    "        print(\"errored while calling f3\")\n",
    "        raise Exception\n",
    "        \n",
    "\n",
    "def f3():\n",
    "    f4()\n",
    "\n",
    "\n",
    "def f4():\n",
    "    raise Exception\n",
    "    \n",
    "\n",
    "f1()\n",
    "\n",
    "#                 (boom #2)\n",
    "# f1 --------------> f2 -----> f3 -------> f4 (boom) # normal exectuion\n",
    "#  ^--[exception]---v ^-----[exception]-----v     # exception unwinding"
   ]
  },
  {
   "cell_type": "markdown",
   "metadata": {},
   "source": [
    "# Making your own errors"
   ]
  },
  {
   "cell_type": "markdown",
   "metadata": {},
   "source": [
    "An exception is just a class (that should inherit from Exception or one of its subclasses):"
   ]
  },
  {
   "cell_type": "code",
   "execution_count": null,
   "metadata": {},
   "outputs": [],
   "source": [
    "class MyCustomError(Exception):\n",
    "    # Inheriting from the base class for all exceptions\n",
    "    pass\n",
    "\n",
    "class NegativeValueError(ValueError):\n",
    "    # Subclassing an exception to add a useful specific case\n",
    "    def __init__(self, value):\n",
    "        self.value = value\n",
    "    def __str__(self):\n",
    "        return \"Value is \" + repr(self.value)"
   ]
  },
  {
   "cell_type": "markdown",
   "metadata": {},
   "source": [
    "Catching the exception you can get any stored values like any object:"
   ]
  },
  {
   "cell_type": "code",
   "execution_count": null,
   "metadata": {},
   "outputs": [],
   "source": [
    "def my_function(x):\n",
    "    if x < 0:\n",
    "        raise NegativeValueError(x)\n",
    "    return x * 3"
   ]
  },
  {
   "cell_type": "code",
   "execution_count": null,
   "metadata": {},
   "outputs": [],
   "source": [
    "# x = 3\n",
    "x = -2\n",
    "try:\n",
    "    print(my_function(x))\n",
    "except NegativeValueError as e:\n",
    "    print('Problem with x={}, try again.'.format(e.value))"
   ]
  },
  {
   "cell_type": "markdown",
   "metadata": {},
   "source": [
    "Uncaught exceptions prints the string representations of the class:"
   ]
  },
  {
   "cell_type": "code",
   "execution_count": null,
   "metadata": {},
   "outputs": [],
   "source": [
    "my_function(-2)"
   ]
  },
  {
   "cell_type": "markdown",
   "metadata": {},
   "source": [
    "You should know when to use the most common built in exceptions, e.g.\n",
    "- ValueError - when the *value* isn't right\n",
    "- TypeError - when the *type* isn't right\n",
    "- IndexError - when index/item isn't in the container (i.e. out of range index on a vector) \n",
    "\n",
    "or which ones to inherit in your custom exception on (if appropriate)"
   ]
  },
  {
   "cell_type": "markdown",
   "metadata": {},
   "source": [
    "## Possible custom exceptions"
   ]
  },
  {
   "cell_type": "markdown",
   "metadata": {},
   "source": [
    "**Question**\n",
    "* In your Poker-game library, what would be some suitable exceptions to implement?\n",
    "\n",
    "---------------------\n",
    "\n",
    "---------------------\n",
    "\n",
    "---------------------\n",
    "\n",
    "\n",
    "---------------------\n",
    "\n",
    "\n",
    "---------------------\n",
    "\n",
    "\n",
    "---------------------\n",
    "\n",
    "\n",
    "---------------------\n",
    "\n",
    "\n",
    "---------------------\n",
    "\n",
    "\n",
    "---------------------\n",
    "\n",
    "\n",
    "---------------------\n",
    "\n",
    "\n",
    "---------------------\n",
    "\n",
    "* `MissingCardError`\n",
    "* `OutOfMoneyError`\n",
    "* `EmptyDeckError`"
   ]
  },
  {
   "cell_type": "code",
   "execution_count": null,
   "metadata": {},
   "outputs": [],
   "source": []
  }
 ],
 "metadata": {
  "anaconda-cloud": {},
  "kernelspec": {
   "display_name": "Python 3",
   "language": "python",
   "name": "python3"
  },
  "language_info": {
   "codemirror_mode": {
    "name": "ipython",
    "version": 3
   },
   "file_extension": ".py",
   "mimetype": "text/x-python",
   "name": "python",
   "nbconvert_exporter": "python",
   "pygments_lexer": "ipython3",
   "version": "3.10.0"
  }
 },
 "nbformat": 4,
 "nbformat_minor": 1
}
