{
 "cells": [
  {
   "cell_type": "code",
   "execution_count": null,
   "metadata": {},
   "outputs": [],
   "source": [
    "%config InlineBackend.figure_formats = ['svg']\n",
    "import matplotlib.pyplot as plt\n",
    "plt.rcParams['figure.figsize'] = [5, 3]"
   ]
  },
  {
   "cell_type": "markdown",
   "metadata": {
    "slideshow": {
     "slide_type": "subslide"
    }
   },
   "source": [
    "# Lecture 4: More NumPy, introducing Matplotlib\n",
    "\n",
    "In this lecture we will talk more about NumPy and introduce Matplotlib.\n",
    "- The material covers more parts from the NumPy User Manual [4] \n",
    "- as well parts of the Matplotlib User Guide [5]."
   ]
  },
  {
   "cell_type": "markdown",
   "metadata": {
    "slideshow": {
     "slide_type": "slide"
    }
   },
   "source": [
    "## Working with NumPy\n",
    "- Lecture 3 introduced NumPy and the `ndarray` array type\n",
    "- Now it's time to start working with these!\n",
    "\n",
    "To access the `numpy` package it is standard to use the import:"
   ]
  },
  {
   "cell_type": "code",
   "execution_count": 2,
   "metadata": {},
   "outputs": [],
   "source": [
    "import numpy as np"
   ]
  },
  {
   "cell_type": "markdown",
   "metadata": {
    "slideshow": {
     "slide_type": "subslide"
    }
   },
   "source": [
    "# Element-wise (binary) operations"
   ]
  },
  {
   "cell_type": "markdown",
   "metadata": {
    "slideshow": {
     "slide_type": "-"
    }
   },
   "source": [
    "The first thing to note is that when working with `ndarrays`: Operations are **element-wise**\n",
    "\n",
    "## Example: Addition"
   ]
  },
  {
   "cell_type": "code",
   "execution_count": 3,
   "metadata": {},
   "outputs": [
    {
     "name": "stdout",
     "output_type": "stream",
     "text": [
      "type(a) = <class 'numpy.ndarray'>\n",
      "a = [0. 1. 2. 3.]\n",
      "b = [1. 2. 3. 4.]\n"
     ]
    }
   ],
   "source": [
    "a = np.arange(4.)\n",
    "\n",
    "b = a + 1\n",
    "\n",
    "print(f\"type(a) = {type(a)}\\na = {a}\\nb = {b}\")"
   ]
  },
  {
   "cell_type": "code",
   "execution_count": 4,
   "metadata": {},
   "outputs": [
    {
     "name": "stdout",
     "output_type": "stream",
     "text": [
      "c = [1. 3. 5. 7.]\n"
     ]
    }
   ],
   "source": [
    "c = a + b\n",
    "\n",
    "print('c =', c)"
   ]
  },
  {
   "cell_type": "markdown",
   "metadata": {
    "slideshow": {
     "slide_type": "subslide"
    }
   },
   "source": [
    "## Example: Multiplication"
   ]
  },
  {
   "cell_type": "code",
   "execution_count": 5,
   "metadata": {},
   "outputs": [
    {
     "name": "stdout",
     "output_type": "stream",
     "text": [
      " a = [0 1 2 3] \n",
      " b = [1.  1.5 2.  2.5] \n",
      " c = [0.  1.5 4.  7.5]\n"
     ]
    }
   ],
   "source": [
    "a = np.arange(4)\n",
    "b = np.linspace(1., 2.5, num=4)\n",
    "\n",
    "c = a * b\n",
    "\n",
    "print(f\" a = {a} \\n b = {b} \\n c = {c}\")"
   ]
  },
  {
   "cell_type": "markdown",
   "metadata": {
    "slideshow": {
     "slide_type": "fragment"
    }
   },
   "source": [
    "**Note:** All the elements in an `ndarray` has a common `dtype`<br>\n",
    "the results of array operations is promoted to the proper type."
   ]
  },
  {
   "cell_type": "code",
   "execution_count": 6,
   "metadata": {},
   "outputs": [
    {
     "name": "stdout",
     "output_type": "stream",
     "text": [
      "int64, float64, float64\n"
     ]
    }
   ],
   "source": [
    "print(a.dtype, b.dtype, c.dtype, sep=', ')"
   ]
  },
  {
   "cell_type": "markdown",
   "metadata": {
    "slideshow": {
     "slide_type": "subslide"
    }
   },
   "source": [
    "## Shape compatibility\n",
    "\n",
    "If shapes of operands are incompatible, NumPy will give you an error:"
   ]
  },
  {
   "cell_type": "code",
   "execution_count": 7,
   "metadata": {},
   "outputs": [
    {
     "name": "stdout",
     "output_type": "stream",
     "text": [
      "(4,) (3,)\n"
     ]
    }
   ],
   "source": [
    "a = np.arange(4)\n",
    "b = np.linspace(1, 2, num=3)\n",
    "print(a.shape, b.shape)"
   ]
  },
  {
   "cell_type": "code",
   "execution_count": 8,
   "metadata": {},
   "outputs": [
    {
     "ename": "ValueError",
     "evalue": "operands could not be broadcast together with shapes (4,) (3,) ",
     "output_type": "error",
     "traceback": [
      "\u001b[0;31m---------------------------------------------------------------------------\u001b[0m",
      "\u001b[0;31mValueError\u001b[0m                                Traceback (most recent call last)",
      "\u001b[0;32m/var/folders/fy/r_5r1_ms0zl48d0ljrmh012h0000gn/T/ipykernel_41968/3645614796.py\u001b[0m in \u001b[0;36m<module>\u001b[0;34m\u001b[0m\n\u001b[0;32m----> 1\u001b[0;31m \u001b[0mc\u001b[0m \u001b[0;34m=\u001b[0m \u001b[0ma\u001b[0m \u001b[0;34m*\u001b[0m \u001b[0mb\u001b[0m\u001b[0;34m\u001b[0m\u001b[0;34m\u001b[0m\u001b[0m\n\u001b[0m",
      "\u001b[0;31mValueError\u001b[0m: operands could not be broadcast together with shapes (4,) (3,) "
     ]
    }
   ],
   "source": [
    "c = a * b"
   ]
  },
  {
   "cell_type": "markdown",
   "metadata": {
    "slideshow": {
     "slide_type": "slide"
    }
   },
   "source": [
    "# Broadcasting"
   ]
  },
  {
   "cell_type": "markdown",
   "metadata": {
    "slideshow": {
     "slide_type": "subslide"
    }
   },
   "source": [
    "# Broadcasting\n",
    "\n",
    "If the shapes of arrays does not match, NumPy tries to apply **broadcasting** rules\n",
    "\n",
    "- If one array has a dimension with only a single index, i.e. `len(array.shape) == 1`\n",
    "- or the first index size is 1\n",
    "- then the elements in the other dimensions are repeated across"
   ]
  },
  {
   "cell_type": "code",
   "execution_count": 9,
   "metadata": {
    "slideshow": {
     "slide_type": "fragment"
    }
   },
   "outputs": [
    {
     "name": "stdout",
     "output_type": "stream",
     "text": [
      "a =\n",
      " [[0. 0. 0. 0.]\n",
      " [0. 0. 0. 0.]\n",
      " [0. 0. 0. 0.]]\n",
      "b = [[0. 1. 2. 3.]]\n",
      "(3, 4) (1, 4)\n"
     ]
    }
   ],
   "source": [
    "a = np.zeros(shape=(3, 4))\n",
    "b = np.arange(4.).reshape((1, 4))\n",
    "print('a =\\n', a)\n",
    "print('b =', b)\n",
    "print(a.shape, b.shape)"
   ]
  },
  {
   "cell_type": "code",
   "execution_count": 10,
   "metadata": {
    "slideshow": {
     "slide_type": "fragment"
    }
   },
   "outputs": [],
   "source": [
    "c = a + b # What happens here!?!"
   ]
  },
  {
   "cell_type": "code",
   "execution_count": 11,
   "metadata": {},
   "outputs": [
    {
     "name": "stdout",
     "output_type": "stream",
     "text": [
      "[[0. 1. 2. 3.]\n",
      " [0. 1. 2. 3.]\n",
      " [0. 1. 2. 3.]]\n"
     ]
    }
   ],
   "source": [
    "print(c)"
   ]
  },
  {
   "cell_type": "markdown",
   "metadata": {
    "slideshow": {
     "slide_type": "subslide"
    }
   },
   "source": [
    "## Adding one-dimensional axies `np.newaxis`\n",
    "- To make broadcasting easy it is possible to add extra axies to arrays.\n",
    "- This is done using slicing and the `np.newaxis` (or `None`)\n",
    "- Consider the previous example again"
   ]
  },
  {
   "cell_type": "code",
   "execution_count": 12,
   "metadata": {},
   "outputs": [
    {
     "name": "stdout",
     "output_type": "stream",
     "text": [
      "a =\n",
      "[[0. 0. 0. 0.]\n",
      " [0. 0. 0. 0.]\n",
      " [0. 0. 0. 0.]]\n",
      "b = [0. 1. 2. 3.]\n",
      "c =\n",
      "[[0. 1. 2. 3.]\n",
      " [0. 1. 2. 3.]\n",
      " [0. 1. 2. 3.]]\n",
      "(4,)\n",
      "(1, 4)\n"
     ]
    }
   ],
   "source": [
    "a = np.zeros(shape=(3, 4))\n",
    "b = np.arange(4.)\n",
    "\n",
    "c = a + b[np.newaxis, :]\n",
    "\n",
    "print(f'a =\\n{a}\\nb = {b}\\nc =\\n{c}')\n",
    "print(b.shape)\n",
    "print(b[None, :].shape)"
   ]
  },
  {
   "cell_type": "markdown",
   "metadata": {},
   "source": [
    "If you like to think in index notation the above operation is equivalent to: $ c_{ij} = a_{ij} + b_{j} $"
   ]
  },
  {
   "cell_type": "markdown",
   "metadata": {
    "slideshow": {
     "slide_type": "fragment"
    }
   },
   "source": [
    "What is `np.newaxis` actually doing?"
   ]
  },
  {
   "cell_type": "code",
   "execution_count": 13,
   "metadata": {},
   "outputs": [
    {
     "name": "stdout",
     "output_type": "stream",
     "text": [
      "(4,)\n",
      "(1, 4)\n"
     ]
    }
   ],
   "source": [
    "x = b[np.newaxis, :]\n",
    "print(b.shape)\n",
    "print(x.shape)"
   ]
  },
  {
   "cell_type": "markdown",
   "metadata": {
    "slideshow": {
     "slide_type": "subslide"
    }
   },
   "source": [
    "## More broadcasting\n",
    "\n",
    "Take the difference $d_{ij}$ of all pairs of entries in two vectors $a_i$ and $b_j$\n",
    "$$ d_{ij} \\equiv a_i - b_j $$\n",
    "\n",
    "Solve by applying broadcasting to both arrays"
   ]
  },
  {
   "cell_type": "code",
   "execution_count": 14,
   "metadata": {},
   "outputs": [
    {
     "name": "stdout",
     "output_type": "stream",
     "text": [
      "a_i = [0. 1. 2. 3.]\n",
      "b_j = [4. 3. 2. 1.]\n"
     ]
    }
   ],
   "source": [
    "a_i = np.arange(4.)\n",
    "b_j = np.arange(4., 0., -1.)\n",
    "\n",
    "print(f'a_i = {a_i}\\nb_j = {b_j}')"
   ]
  },
  {
   "cell_type": "code",
   "execution_count": 15,
   "metadata": {},
   "outputs": [
    {
     "name": "stdout",
     "output_type": "stream",
     "text": [
      "[[-4. -3. -2. -1.]\n",
      " [-3. -2. -1.  0.]\n",
      " [-2. -1.  0.  1.]\n",
      " [-1.  0.  1.  2.]]\n"
     ]
    }
   ],
   "source": [
    "d_ij = a_i[:, np.newaxis] - b_j[np.newaxis, :]\n",
    "print(d_ij)"
   ]
  },
  {
   "cell_type": "markdown",
   "metadata": {},
   "source": [
    "Or the same using `None` instead of `np.newaxis`"
   ]
  },
  {
   "cell_type": "code",
   "execution_count": null,
   "metadata": {},
   "outputs": [],
   "source": [
    "d_ij = a_i[:, None] - b_j[None, :]\n",
    "print(d_ij)"
   ]
  },
  {
   "cell_type": "markdown",
   "metadata": {
    "slideshow": {
     "slide_type": "slide"
    }
   },
   "source": [
    "# Indexing and slicing"
   ]
  },
  {
   "cell_type": "markdown",
   "metadata": {
    "slideshow": {
     "slide_type": "fragment"
    }
   },
   "source": [
    "In many algorithms you need to work on parts of an array, i.e. only selected entries will be used.\n",
    "\n",
    "* When we talk about *indexing* we are choosing data for specific indices out of an array\n",
    "* For NumPy indexing, you can use Python lists or NumPy arrays as *index arrays*"
   ]
  },
  {
   "cell_type": "markdown",
   "metadata": {
    "slideshow": {
     "slide_type": "subslide"
    }
   },
   "source": [
    "## Example: Index arrays"
   ]
  },
  {
   "cell_type": "code",
   "execution_count": null,
   "metadata": {},
   "outputs": [],
   "source": [
    "a = np.linspace(1., 10., 7)\n",
    "index = np.array([0, 2, 3])\n",
    "\n",
    "print( f\"a = {a}\" )\n",
    "print( f\"index = {index}\" )\n",
    "print()\n",
    "print( a[0] )          # Single element\n",
    "print( a[[0, 2, 3]] )  # Indexing with index array - Python list\n",
    "print( a[index] )      # Indexing with index array - NumPy array"
   ]
  },
  {
   "cell_type": "markdown",
   "metadata": {
    "slideshow": {
     "slide_type": "subslide"
    }
   },
   "source": [
    "## Example: Boolean index arrays\n",
    "* You can also use arrays of Booleans as \"mask\" arrays to choose specific values"
   ]
  },
  {
   "cell_type": "code",
   "execution_count": null,
   "metadata": {},
   "outputs": [],
   "source": [
    "mask = a > 4\n",
    "print( f\"mask = {mask}\" )\n",
    "print( f\"a[mask] = {a[mask]}\" )\n",
    "\n",
    "# Or use condition directly\n",
    "print( f\"a[a<6] = {a[a<6]}\" )"
   ]
  },
  {
   "cell_type": "markdown",
   "metadata": {
    "slideshow": {
     "slide_type": "subslide"
    }
   },
   "source": [
    "## Example: Slicing\n",
    "* When we talk about *slicing* we are choosing specific data *continuously* or in a *regular pattern*"
   ]
  },
  {
   "cell_type": "code",
   "execution_count": null,
   "metadata": {},
   "outputs": [],
   "source": [
    "print( a[0:2] )        # Slicing: Elements from (and including) no. 0 to no. 2 (not including)\n",
    "print( a[::2] )        # Slicing: Every second element from start to end\n",
    "print( a[:0:-1] )      # Slicing: Every element _except_ the first one, in reverse order"
   ]
  },
  {
   "cell_type": "markdown",
   "metadata": {
    "slideshow": {
     "slide_type": "subslide"
    }
   },
   "source": [
    "## Example: Multidimensional slicing\n",
    "* NumPy arrays can be of _any_ dimension, indexing follows the same pattern as for one dimension. Different dimensions are separated with a comma (**,**)"
   ]
  },
  {
   "cell_type": "code",
   "execution_count": null,
   "metadata": {},
   "outputs": [],
   "source": [
    "a = np.arange(24).reshape(3, 2, 4)\n",
    "print( f\"a = \\n{a}\" )\n",
    "print()\n",
    "print( \"a[0,:,:] = \\n{}\".format(a[0,:,:]) )    # \"block 0\"\n",
    "print()\n",
    "print( \"a[:,1,:] = \\n{}\".format(a[:,1,:]) )    # \"row 1\" (from each block)\n",
    "print()\n",
    "print( \"a[:,:,2] = \\n{}\".format(a[:,:,2]) )    # \"column 2\" (from each block)"
   ]
  },
  {
   "cell_type": "markdown",
   "metadata": {},
   "source": [
    "- For more ways to work with arrays, see the NumPy methods **where()**, **argsort()**, **concatenate()**, **hstack()** and **vstack()**"
   ]
  },
  {
   "cell_type": "markdown",
   "metadata": {
    "slideshow": {
     "slide_type": "slide"
    }
   },
   "source": [
    "# Numerics with NumPy"
   ]
  },
  {
   "cell_type": "markdown",
   "metadata": {
    "slideshow": {
     "slide_type": "fragment"
    }
   },
   "source": [
    "There are **many** numerical routines available in NumPy\n",
    "* Standard mathematical functions: `np.sin`, `np.cosh`, `np.exp`, `np.log`, `np.log10`, `np.sign`, etc.\n",
    "* Reductions, `np.max`, `np.min`, `np.sum`, `np.prod`, `np.mean`, `np.median`, etc.\n",
    "* Cumulative functions: `np.cumsum`, `np.cumprod`\n",
    "* Integration and differentiation: `np.trapz`, `np.diff`, `np.gradient`\n",
    "* Contractions, i.e. matrix multiplication and its generalizations: `np.dot`, `np.tensordot`, `np.einsum`, etc.\n",
    "* Linear algebra `np.linalg`\n",
    "* Random number generators `np.random`\n",
    "* Fourier transforms `np.fft`\n",
    "* Polynomials `np.polynomial`\n",
    "* And more\n",
    "\n",
    "see the [NumPy reference manual](https://docs.scipy.org/doc/numpy/reference/) for a complete list"
   ]
  },
  {
   "cell_type": "markdown",
   "metadata": {
    "slideshow": {
     "slide_type": "subslide"
    }
   },
   "source": [
    "## Sums and Products (`np.sum`, `np.prod`)"
   ]
  },
  {
   "cell_type": "code",
   "execution_count": null,
   "metadata": {},
   "outputs": [],
   "source": [
    "a = 0.1 * np.arange(1., 25.).reshape(2, 3, 4)\n",
    "print(f\"a =\\n{a}\")"
   ]
  },
  {
   "cell_type": "markdown",
   "metadata": {},
   "source": [
    "Sum all elements: $\\sum_{ijk} a_{ijk}$"
   ]
  },
  {
   "cell_type": "code",
   "execution_count": null,
   "metadata": {},
   "outputs": [],
   "source": [
    "np.sum(a)"
   ]
  },
  {
   "cell_type": "markdown",
   "metadata": {},
   "source": [
    "Product of all elements: $\\prod_{ijk} a_{ijk}$"
   ]
  },
  {
   "cell_type": "code",
   "execution_count": null,
   "metadata": {},
   "outputs": [],
   "source": [
    "np.prod(a)"
   ]
  },
  {
   "cell_type": "markdown",
   "metadata": {
    "slideshow": {
     "slide_type": "subslide"
    }
   },
   "source": [
    "To work over a subset of axes, use the `axis` key-word argument\n",
    "\n",
    "Sum all elements over 2nd axis: $\\sum_{j} a_{ijk}$"
   ]
  },
  {
   "cell_type": "code",
   "execution_count": null,
   "metadata": {},
   "outputs": [],
   "source": [
    "np.sum(a, axis=1)"
   ]
  },
  {
   "cell_type": "markdown",
   "metadata": {},
   "source": [
    "Product of all elements over the 2nd and 3rd axis: $\\prod_{jk} a_{ijk}$"
   ]
  },
  {
   "cell_type": "code",
   "execution_count": null,
   "metadata": {},
   "outputs": [],
   "source": [
    " np.prod(a, axis=(1, 2))"
   ]
  },
  {
   "cell_type": "markdown",
   "metadata": {
    "slideshow": {
     "slide_type": "subslide"
    }
   },
   "source": [
    "## Differentiation `np.diff`"
   ]
  },
  {
   "cell_type": "markdown",
   "metadata": {},
   "source": [
    "The difference between neighbouring elements\n",
    "$$y_i = x_{i+1} - x_i$$\n",
    "\n",
    "can be computed by: `y = np.diff(x, n=1, axis=-1)`\n",
    "- `n :`  number of times to take the difference\n",
    "- `axis :` axis to work on, default `-1`\n"
   ]
  },
  {
   "cell_type": "code",
   "execution_count": null,
   "metadata": {},
   "outputs": [],
   "source": [
    "x = np.arange(5.)\n",
    "print(x)"
   ]
  },
  {
   "cell_type": "code",
   "execution_count": null,
   "metadata": {},
   "outputs": [],
   "source": [
    "y = np.diff(x)\n",
    "print(y)"
   ]
  },
  {
   "cell_type": "code",
   "execution_count": null,
   "metadata": {},
   "outputs": [],
   "source": [
    "z = np.diff(x, 2)\n",
    "print(z)"
   ]
  },
  {
   "cell_type": "markdown",
   "metadata": {
    "slideshow": {
     "slide_type": "subslide"
    }
   },
   "source": [
    "## Gradients `np.gradient`\n",
    "Approximate the gradient calculation\n",
    "$$\\frac{df(x_n)}{dx} \\approx \\frac{f(x_{n+1})- 2f(x_n) + f(x_{n-1})}{2\\Delta x}$$\n",
    "use `np.gradient(f , [dx, dy, ....])`\n",
    "\n",
    "Example:\n",
    "$$f(x) = \\cos(x) \\quad \\Rightarrow \\quad f'(x) \\equiv \\frac{d}{dx}f(x) = \\frac{d}{dx} \\cos(x) = -\\sin(x)$$"
   ]
  },
  {
   "cell_type": "code",
   "execution_count": null,
   "metadata": {},
   "outputs": [],
   "source": [
    "dx = 0.1\n",
    "x = np.arange(0, 3*np.pi, dx) \n",
    "\n",
    "f = np.cos(x)\n",
    "f_prime = np.gradient(f, dx)"
   ]
  },
  {
   "cell_type": "code",
   "execution_count": null,
   "metadata": {},
   "outputs": [],
   "source": [
    "import matplotlib.pyplot as plt\n",
    "plt.plot(x, f, label='$f(x)$')\n",
    "plt.plot(x, f_prime, label='$f\\'(x)$')\n",
    "plt.xlabel('$x$')\n",
    "plt.legend();"
   ]
  },
  {
   "cell_type": "markdown",
   "metadata": {
    "slideshow": {
     "slide_type": "subslide"
    }
   },
   "source": [
    "## Cumulative sums (integration) `np.cumsum`"
   ]
  },
  {
   "cell_type": "markdown",
   "metadata": {},
   "source": [
    "For the Riemann sum approximation of an integral \n",
    "$$F(x) = \\int_{x_0}^x f(y) \\, dy \n",
    "\\quad \\Rightarrow \\quad F(x_n) \\approx \\Delta x \\cdot \\sum_{i = 0}^n f(x_i)$$\n",
    "\n",
    "* use `np.cumsum(f, axis=None, out=None)`\n",
    "* `axis` is the axis to work along (default is to *flatten* array and use all elements)\n",
    "\n",
    "* Example: $f(x) = \\cos(x) \\Rightarrow F(x) = \\sin(x)$"
   ]
  },
  {
   "cell_type": "code",
   "execution_count": null,
   "metadata": {},
   "outputs": [],
   "source": [
    "x = np.linspace(0, 4*np.pi, num=400)\n",
    "dx = x[1] - x[0] # All distances equal\n",
    "  \n",
    "f = np.cos(x)  \n",
    "F = np.cumsum(f) * dx\n",
    "\n",
    "plt.plot(x, f, label='$f(x)$')\n",
    "plt.plot(x, F, label='$F(x)$')\n",
    "plt.xlabel('$x$')\n",
    "plt.legend();"
   ]
  },
  {
   "cell_type": "markdown",
   "metadata": {
    "slideshow": {
     "slide_type": "subslide"
    }
   },
   "source": [
    "For integration over an entire interval\n",
    "$$ \\int_{x_0}^{x_{-1}} f(x) \\, dx $$\n",
    "* use `numpy.trapz(f, x=None, dx=1.0, axis=-1)` (trapetzoidal rule)\n",
    "* You must give `x` **or** `dx`!"
   ]
  },
  {
   "cell_type": "code",
   "execution_count": null,
   "metadata": {},
   "outputs": [],
   "source": [
    "F_trapz = np.trapz(f, x=x)\n",
    "\n",
    "print(\"Trapezoidal integration:\", F_trapz)\n",
    "print(\"Rieman integration:     \", F[-1])"
   ]
  },
  {
   "cell_type": "markdown",
   "metadata": {
    "slideshow": {
     "slide_type": "subslide"
    }
   },
   "source": [
    "## Array dot-product  `np.dot`"
   ]
  },
  {
   "cell_type": "markdown",
   "metadata": {},
   "source": [
    "- The standard binary operations, `+`, `-`, `*`, `/` etc., work *element-wise* on NumPy `ndarray`s\n",
    "- For Vector/matrix multiplications use `np.dot(a, b)`\n",
    "- Note: `ndarrays` have `.dot` *method*, see below\n",
    "\n",
    "The dot product `np.dot` is defined as\n",
    "* For vectors: $a \\cdot b = \\sum_j a_j b_j$ (the result is a scalar)\n",
    "* For matrices: $A \\cdot B = \\sum_k A_{ik} B_{kj}$"
   ]
  },
  {
   "cell_type": "code",
   "execution_count": null,
   "metadata": {},
   "outputs": [],
   "source": [
    "a = np.array([1., 2., 3.])\n",
    "b = np.array([2., 1., 0.])"
   ]
  },
  {
   "cell_type": "code",
   "execution_count": null,
   "metadata": {},
   "outputs": [],
   "source": [
    "np.dot(a, b)"
   ]
  },
  {
   "cell_type": "code",
   "execution_count": null,
   "metadata": {},
   "outputs": [],
   "source": [
    "a.dot(b)"
   ]
  },
  {
   "cell_type": "code",
   "execution_count": null,
   "metadata": {},
   "outputs": [],
   "source": [
    "a * b"
   ]
  },
  {
   "cell_type": "markdown",
   "metadata": {
    "slideshow": {
     "slide_type": "subslide"
    }
   },
   "source": [
    "## Matrix vector product\n",
    "\n",
    "`np.dot` does matrix-vector multiplication when given one 2D and one 1D array"
   ]
  },
  {
   "cell_type": "code",
   "execution_count": null,
   "metadata": {},
   "outputs": [],
   "source": [
    "A = np.arange(6.).reshape( (3,2) )\n",
    "b = np.arange(2.)\n",
    "print( \"A =\\n{}\".format(A) )\n",
    "print( \"b = {}\".format(b) )"
   ]
  },
  {
   "cell_type": "code",
   "execution_count": null,
   "metadata": {},
   "outputs": [],
   "source": [
    "A.dot(b)"
   ]
  },
  {
   "cell_type": "markdown",
   "metadata": {
    "slideshow": {
     "slide_type": "subslide"
    }
   },
   "source": [
    "## Matrix multiplication\n",
    "`np.dot` does matrix multiplication when given two 2D arrays"
   ]
  },
  {
   "cell_type": "code",
   "execution_count": null,
   "metadata": {},
   "outputs": [],
   "source": [
    "A = np.arange(9).reshape((3,3))\n",
    "B = np.random.randint(0,10,(3,3))\n",
    "print(\"A =\", A, 'B =', B, sep='\\n')"
   ]
  },
  {
   "cell_type": "code",
   "execution_count": null,
   "metadata": {},
   "outputs": [],
   "source": [
    "A.dot(B)"
   ]
  },
  {
   "cell_type": "markdown",
   "metadata": {
    "slideshow": {
     "slide_type": "subslide"
    }
   },
   "source": [
    "## Array manipulation"
   ]
  },
  {
   "cell_type": "markdown",
   "metadata": {},
   "source": [
    "* Transpose given by the `T` view, e.g. `B.T`\n",
    "* Array conjugate using the `.conjugate` or `.conj` methods\n",
    "* General transpose-like operations, `np.swapaxes` etc.<br>\n",
    "  see [NumPy Array Manipulation Routines](https://docs.scipy.org/doc/numpy/reference/routines.array-manipulation.html)\n"
   ]
  },
  {
   "cell_type": "code",
   "execution_count": null,
   "metadata": {},
   "outputs": [],
   "source": [
    "B = np.arange(6).reshape(2, 3)\n",
    "B"
   ]
  },
  {
   "cell_type": "code",
   "execution_count": null,
   "metadata": {},
   "outputs": [],
   "source": [
    "B.T"
   ]
  },
  {
   "cell_type": "code",
   "execution_count": null,
   "metadata": {},
   "outputs": [],
   "source": [
    "np.swapaxes(B, 0, 1)"
   ]
  },
  {
   "cell_type": "markdown",
   "metadata": {
    "slideshow": {
     "slide_type": "fragment"
    }
   },
   "source": [
    "Complex valued arrays and complex conjugate"
   ]
  },
  {
   "cell_type": "code",
   "execution_count": null,
   "metadata": {},
   "outputs": [],
   "source": [
    "C = (1 + 1j) * B\n",
    "C"
   ]
  },
  {
   "cell_type": "code",
   "execution_count": null,
   "metadata": {},
   "outputs": [],
   "source": [
    "C.conj()"
   ]
  },
  {
   "cell_type": "markdown",
   "metadata": {
    "slideshow": {
     "slide_type": "subslide"
    }
   },
   "source": [
    "## NumPy Linear Algebra module `np.linalg`\n",
    "Provides additional operations\n",
    "* `norm(A)`: matrix or vector norm (default: 2-norm)\n",
    "* `det(A)`: matrix determinant\n",
    "* `x = solve(A, b)`: linear equation system solver: $A \\cdot \\mathbf{x} = \\mathbf{b}$\n",
    "* `inv(A)`, `pinv(A)`: matrix inverse and pseudo inverse\n",
    "* `Q, R = qr(A)` QR-factorization\n",
    "* `eig(A)`: matrix eigen value and eigen vector decomposition\n",
    "* `svd(A)`: matrix single-value decomposition\n",
    "\n",
    "Example: inverse"
   ]
  },
  {
   "cell_type": "code",
   "execution_count": null,
   "metadata": {},
   "outputs": [],
   "source": [
    "A = np.array([\n",
    "    [1, 0, 1],\n",
    "    [3, 1, 0],\n",
    "    [1, 2, 1]])\n",
    "\n",
    "A_inv = np.linalg.inv(A)\n",
    "print(A_inv)"
   ]
  },
  {
   "cell_type": "code",
   "execution_count": null,
   "metadata": {},
   "outputs": [],
   "source": [
    "A.dot(A_inv)"
   ]
  },
  {
   "cell_type": "markdown",
   "metadata": {},
   "source": [
    "For more information use the built-in help!"
   ]
  },
  {
   "cell_type": "markdown",
   "metadata": {
    "slideshow": {
     "slide_type": "subslide"
    }
   },
   "source": [
    "## The matrix type `np.matrix`\n",
    "- It is **deprecated**, please do not use it!\n",
    "- Instead use the new matrix multiplication syntax: `A @ B` on `ndarray`:s"
   ]
  },
  {
   "cell_type": "markdown",
   "metadata": {
    "slideshow": {
     "slide_type": "fragment"
    }
   },
   "source": [
    "Here are the previous examples with `np.dot` replaced by `@`"
   ]
  },
  {
   "cell_type": "code",
   "execution_count": null,
   "metadata": {},
   "outputs": [],
   "source": [
    "A = np.arange(6.).reshape((3, 2))\n",
    "b = np.arange(2.)\n",
    "A @ b"
   ]
  },
  {
   "cell_type": "code",
   "execution_count": null,
   "metadata": {},
   "outputs": [],
   "source": [
    "A = np.arange(9).reshape((3 ,3))\n",
    "B = np.random.randint(0, 10, size=(3, 3))\n",
    "A @ B"
   ]
  },
  {
   "cell_type": "code",
   "execution_count": null,
   "metadata": {},
   "outputs": [],
   "source": [
    "A = np.array([\n",
    "    [1, 0, 1],\n",
    "    [3, 1, 0],\n",
    "    [1, 2, 1]])\n",
    "\n",
    "A_inv = np.linalg.inv(A)\n",
    "A @ A_inv"
   ]
  },
  {
   "cell_type": "markdown",
   "metadata": {
    "slideshow": {
     "slide_type": "subslide"
    }
   },
   "source": [
    "## More NumPy!"
   ]
  },
  {
   "cell_type": "markdown",
   "metadata": {},
   "source": [
    "\n",
    "\n",
    "There are many additional sub-packages and functions in NumPy not covered here, for example the modules \n",
    "- `np.fft`,\n",
    "- `np.random`, and \n",
    "- `np.polynomial`, \n",
    "\n",
    "for more information use the built-in `help()` and the online documentation."
   ]
  },
  {
   "cell_type": "markdown",
   "metadata": {
    "slideshow": {
     "slide_type": "subslide"
    }
   },
   "source": [
    "# Visualisation\n",
    "\n",
    "Visualization is a cornerstone of scientific computing\n",
    "\n",
    "There are many tools for data visualisation, e.g.\n",
    "- Matlab, Mathematica, GNUplot, R, etc., and\n",
    "- many more specialised software suites"
   ]
  },
  {
   "cell_type": "markdown",
   "metadata": {
    "slideshow": {
     "slide_type": "fragment"
    }
   },
   "source": [
    "For Python the dominating package is:\n",
    "- **Matplotlib**, for 2D plots with some 3D support\n",
    "- there are interesting competitors, [**plotly**](https://plotly.com/python/), [**Bokeh**](https://bokeh.org/), etc.\n",
    "\n",
    "Here we will only look into Matplotlib."
   ]
  },
  {
   "cell_type": "markdown",
   "metadata": {
    "slideshow": {
     "slide_type": "slide"
    }
   },
   "source": [
    "# Matplotlib"
   ]
  },
  {
   "cell_type": "markdown",
   "metadata": {
    "slideshow": {
     "slide_type": "fragment"
    }
   },
   "source": [
    "Matlplotlib is a Python 2D plotting library which produces publication quality figures\n",
    "\n",
    "Matplotlib can be used in \n",
    "  - Python scripts, \n",
    "  - the Python and IPython shell, \n",
    "  - the Jupyter notebook, \n",
    "  - web application servers, and\n",
    "  - four graphical user interface toolkits."
   ]
  },
  {
   "cell_type": "markdown",
   "metadata": {
    "slideshow": {
     "slide_type": "subslide"
    }
   },
   "source": [
    "## Matplotlib motto:\n",
    "\n",
    "*Matplotlib tries to make easy things easy and hard things possible.*"
   ]
  },
  {
   "cell_type": "markdown",
   "metadata": {
    "slideshow": {
     "slide_type": "fragment"
    }
   },
   "source": [
    "You can generate \n",
    "  - plots, \n",
    "  - histograms, \n",
    "  - power spectra, \n",
    "  - bar charts, \n",
    "  - errorcharts, \n",
    "  - scatterplots, etc., \n",
    "  \n",
    "with just a few lines of code. "
   ]
  },
  {
   "cell_type": "markdown",
   "metadata": {
    "slideshow": {
     "slide_type": "subslide"
    }
   },
   "source": [
    "- For simple plotting the pyplot module provides a MATLAB-like interface, \n",
    "- For the power user, you have full control of line styles, font properties, axes properties, etc., \n",
    "  - via an object oriented interface or \n",
    "  - via a set of functions familiar to MATLAB users\n",
    "\n",
    "For a sampling, see the screenshots, [thumbnail gallery](https://matplotlib.org/gallery/index.html), and examples directory."
   ]
  },
  {
   "cell_type": "markdown",
   "metadata": {
    "slideshow": {
     "slide_type": "subslide"
    }
   },
   "source": [
    "## `matplotlib.pyplot`"
   ]
  },
  {
   "cell_type": "markdown",
   "metadata": {},
   "source": [
    "- `matplotlib.pyplot` is the \"main\" module for plotting\n",
    "- this module contain all the things you need to create figures, draw axes, plot results etc.\n",
    "- it is standard to import Matplotlib according to:"
   ]
  },
  {
   "cell_type": "code",
   "execution_count": null,
   "metadata": {},
   "outputs": [],
   "source": [
    "import matplotlib.pyplot as plt"
   ]
  },
  {
   "cell_type": "markdown",
   "metadata": {
    "slideshow": {
     "slide_type": "subslide"
    }
   },
   "source": [
    "## Figures, axes and plots"
   ]
  },
  {
   "cell_type": "markdown",
   "metadata": {},
   "source": [
    "To understand how to work with Matplotlib we need to know how Matplotlib constructs its figures.\n",
    "- The \"basic\" object for all figures is the `figure` object.\n",
    "- The figure object contains all the axes, plots and axis lables, etc. that you create\n",
    "\n",
    "- The figure object can be explicitly created using `plt.figure()`, \n",
    "- However, it is created automatically when using most plotting-commands.\n"
   ]
  },
  {
   "cell_type": "code",
   "execution_count": 17,
   "metadata": {},
   "outputs": [
    {
     "data": {
      "image/png": "[encoded data removed]",
      "text/plain": [
       "<Figure size 432x288 with 1 Axes>"
      ]
     },
     "metadata": {
      "needs_background": "light"
     },
     "output_type": "display_data"
    }
   ],
   "source": [
    "import matplotlib.pyplot as plt\n",
    "plt.figure()\n",
    "plt.plot([0, 2, 3], [5, 3, 1]);\n",
    "plt.show()"
   ]
  },
  {
   "cell_type": "markdown",
   "metadata": {},
   "source": [
    "The call to `plt.plot(...)` creates a line plot (it also automatically creates an axes object and makes it the current axis)."
   ]
  },
  {
   "cell_type": "markdown",
   "metadata": {
    "slideshow": {
     "slide_type": "subslide"
    }
   },
   "source": [
    "## What makes a figure?\n",
    "\n",
    "A figure comprise a number of components\n",
    "- **axes**, with \n",
    "  - title\n",
    "  - legend\n",
    "  - spines\n",
    "  - axis labels\n",
    "  - grid\n",
    "  - minor and major ticks, and\n",
    "  - tick labes\n",
    "- different types of **plots**\n",
    "  - line plots\n",
    "  - scatter plots\n",
    "  - etc."
   ]
  },
  {
   "attachments": {
    "L4_matplotlib_fig_map.png": {
     "image/png": "[encoded data removed]"
    }
   },
   "cell_type": "markdown",
   "metadata": {
    "slideshow": {
     "slide_type": "subslide"
    }
   },
   "source": [
    "![L4_matplotlib_fig_map.png](attachment:L4_matplotlib_fig_map.png)\n",
    "\n",
    "(Source: [the Matplotlib homepage](https://matplotlib.org/stable/tutorials/introductory/usage.html#parts-of-a-figure))\n"
   ]
  },
  {
   "cell_type": "markdown",
   "metadata": {
    "slideshow": {
     "slide_type": "subslide"
    }
   },
   "source": [
    "## Controlling the axes"
   ]
  },
  {
   "cell_type": "markdown",
   "metadata": {},
   "source": [
    "Methods for the figure object, or for individual axes objects include:"
   ]
  },
  {
   "cell_type": "code",
   "execution_count": 18,
   "metadata": {},
   "outputs": [
    {
     "data": {
      "image/png": "[encoded data removed]",
      "text/plain": [
       "<Figure size 432x288 with 1 Axes>"
      ]
     },
     "metadata": {
      "needs_background": "light"
     },
     "output_type": "display_data"
    }
   ],
   "source": [
    "plt.figure()\n",
    "plt.title('Bell progress')\n",
    "plt.plot([0,2,3], [5,3,1], label='Tim')\n",
    "plt.plot([0,1,3], [2,3,5], label='Alice')\n",
    "plt.legend(title='User', loc='best')\n",
    "\n",
    "plt.xlabel('time')\n",
    "plt.ylabel('bells')\n",
    "plt.xlim(right=3.5)\n",
    "plt.ylim([0., 5.5])\n",
    "plt.grid(True)\n",
    "\n",
    "plt.text( 2.5, 3., r'$\\Omega = \\sum_i \\frac{K_i}{2 \\cdot B_i}$', size=15 )\n",
    "plt.yticks(np.arange(6), ['', 'One', '**', 3, r'$\\Delta$', '>>>>>'])\n",
    "plt.tick_params(axis='x', direction='in',  color='r', labelcolor='g', \n",
    "                width=2, length=8, top=False)\n",
    "plt.savefig('my_plot.svg')\n",
    "plt.show()"
   ]
  },
  {
   "cell_type": "markdown",
   "metadata": {},
   "source": [
    "- There are many more  possibilities available to modify your plots\n",
    "- See the online material and the [\"gallery\" section on the the Matplotlib homepage](https://matplotlib.org/stable/gallery/index.html) for more information.\n",
    "- **Note:** For text labels, you can use raw strings (`r\"...\"`) with LaTeX-syntax to display symbols etc. (See the simple example above.)"
   ]
  },
  {
   "cell_type": "markdown",
   "metadata": {
    "slideshow": {
     "slide_type": "subslide"
    }
   },
   "source": [
    "## Multiple axes\n",
    "\n",
    "You can combine plots with completely different scales in one direction into one plot (or subplot) \n",
    "by using `plt.twinx()` or `plt.twiny()`."
   ]
  },
  {
   "cell_type": "code",
   "execution_count": 19,
   "metadata": {},
   "outputs": [
    {
     "data": {
      "image/png": "[encoded data removed]",
      "text/plain": [
       "<Figure size 432x288 with 2 Axes>"
      ]
     },
     "metadata": {
      "needs_background": "light"
     },
     "output_type": "display_data"
    }
   ],
   "source": [
    "plt.figure()\n",
    "plt.plot([1, 2, 3, 4], [1, 2.5, 3.1, 4], label='Data 1')\n",
    "plt.ylabel('Data 1 [m]')\n",
    "plt.legend()\n",
    "\n",
    "plt.twinx()\n",
    "\n",
    "plt.scatter( [1, 2, 3, 4], [60, 48, 42, 30], label='Data 2' )\n",
    "plt.ylabel('Data 2 [kg]')\n",
    "plt.legend()\n",
    "\n",
    "plt.xlabel('X')\n",
    "plt.show()"
   ]
  },
  {
   "cell_type": "markdown",
   "metadata": {
    "slideshow": {
     "slide_type": "slide"
    }
   },
   "source": [
    "# Plot styling"
   ]
  },
  {
   "cell_type": "markdown",
   "metadata": {
    "slideshow": {
     "slide_type": "subslide"
    }
   },
   "source": [
    "## Plot styling: Colors"
   ]
  },
  {
   "cell_type": "markdown",
   "metadata": {},
   "source": [
    "Colors, markers and linestyles can be specified using a Matlab-like notation for simple cases\n",
    "- `\"r*-\"` to give a red line with `*`-markers at the points.\n",
    "- To separately control color use the `color=` keyword-argument\n",
    "\n",
    "There are four color specification method to choose from:\n",
    "- By name (or the single letter version like above). All the 140 color names from the [HTML/CSS specification](https://www.w3schools.com/colors/colors_names.asp) are supported.\n",
    "- Using a [RGB hex string (as in HTML/CSS)](https://www.w3schools.com/colors/colors_hex.asp), e.g. `#0000FF` for blue etc.\n",
    "- By an RGB(A) tuple of floats `(r, g, b, alpha)` with values in $a,b,c,\\alpha \\in [0, 1]$. The last parameter $\\alpha$ is optional and controls the transparency.<br> e.g. red is (1.0, 0.0, 0.0), while (0.0, 0.0, 1.0, 0.5) gives transparent blue. \n",
    "- Setting gray level with a string containing a number between 0 and 1. For black use `\"0.0\"` and for white `\"1.0\"`\n",
    "\n",
    "(Note: Transparency can also be set by the `alpha=` key-word argument)"
   ]
  },
  {
   "cell_type": "code",
   "execution_count": null,
   "metadata": {
    "slideshow": {
     "slide_type": "subslide"
    }
   },
   "outputs": [],
   "source": [
    "plt.plot([0, 1, 2], [1.2, 1.5, 1.0], color='OliveDrab')\n",
    "plt.plot([0, 1, 2], [0.8, 0.4, 0.2], color=(0.2, 0.8, 0.8, 0.5))\n",
    "plt.plot([0, 1, 2], [0.5, 0.8, 1.3], color=\"0.6\", alpha=0.5, linewidth=5)\n",
    "plt.show()"
   ]
  },
  {
   "cell_type": "markdown",
   "metadata": {
    "slideshow": {
     "slide_type": "subslide"
    }
   },
   "source": [
    "## Plot styling: Line styles"
   ]
  },
  {
   "cell_type": "markdown",
   "metadata": {},
   "source": [
    "- `-` : solid lines\n",
    "- `--` : dashed lines\n",
    "- `-.` : dot-dashed lines\n",
    "- `dashes=[dash_length, space_length, ...]` : arbitrary dashes"
   ]
  },
  {
   "cell_type": "code",
   "execution_count": null,
   "metadata": {},
   "outputs": [],
   "source": [
    "x = np.linspace(0, 1, num=10)\n",
    "a, b, c, d = np.cumsum(np.random.random((4, len(x))), axis=-1)\n",
    "plt.plot(x, a, '-', label='a')\n",
    "plt.plot(x, b, '--', label='b')\n",
    "plt.plot(x, c, '-.', label='c')\n",
    "plt.plot(x, d, dashes=[6, 1, 1, 1, 1, 1], label='d')\n",
    "plt.legend(loc='best'); plt.show()"
   ]
  },
  {
   "cell_type": "markdown",
   "metadata": {
    "slideshow": {
     "slide_type": "subslide"
    }
   },
   "source": [
    "## Plot styling: Markers"
   ]
  },
  {
   "cell_type": "markdown",
   "metadata": {},
   "source": [
    "Markers are set in the `fmt` argument or the `marker=` keyword argument.\n",
    "\n",
    "marker     |  description  ||marker    |  description    ||marker  |  description  ||marker    |  description  \n",
    ":----------|:--------------||:---------|:----------------||:-------|:--------------||:---------|:--------------\n",
    "\".\"        |  point        ||\"+\"       |  plus           ||\",\"     |  pixel        ||\"x\"       |  cross\n",
    "\"o\"        |  circle       ||\"D\"       |  diamond        ||\"d\"     |  thin_diamond ||          |\n",
    "\"8\"        |  octagon      ||\"s\"       |  square         ||\"p\"     |  pentagon     ||\"\\*\"      |  star\n",
    "\"&#124;\"   |  vertical line||\"\\_\"      | horizontal line ||\"h\"     |  hexagon1     ||\"H\"       |  hexagon2\n",
    "0          |  tickleft     ||4         |  caretleft      ||\"<\"     | triangle_left ||\"3\"       |  tri_left\n",
    "1          |  tickright    ||5         |  caretright     ||\">\"     | triangle_right||\"4\"       |  tri_right\n",
    "2          |  tickup       ||6         |  caretup        ||\"^\"     | triangle_up   ||\"2\"       |  tri_up\n",
    "3          |  tickdown     ||7         |  caretdown      ||\"v\"     | triangle_down ||\"1\"       |  tri_down\n",
    "\"None\"     |  nothing      ||`None`    |  nothing        ||\" \"     |  nothing      ||\"\"        |  nothing\n",
    "\n",
    "It is also possible to construct new markers by giving a list of xy-coordinate tuples (relative to the center of the marker at `(0,0)`)."
   ]
  },
  {
   "cell_type": "code",
   "execution_count": null,
   "metadata": {
    "slideshow": {
     "slide_type": "subslide"
    }
   },
   "outputs": [],
   "source": [
    "plt.plot([0, 1, 2], [1.2, 1.5, 1.0], 'kD-', markersize=10 )\n",
    "plt.plot([0, 1, 2], [0.5, 0.8, 1.3], color=\"green\", marker=\"8\", markersize=15 )\n",
    "plt.plot([0, 1, 2], [0.8, 0.4, 0.2], color='SlateBlue', alpha=0.75,\n",
    "         marker=[(-3, -5), (0, 3), (3, -5), (0, -3)], markersize=25)\n",
    "plt.show()"
   ]
  },
  {
   "cell_type": "markdown",
   "metadata": {
    "slideshow": {
     "slide_type": "slide"
    }
   },
   "source": [
    "## Plot functions"
   ]
  },
  {
   "cell_type": "markdown",
   "metadata": {},
   "source": [
    "There is a wide range of plot functions available in Matplotlib.\n",
    "- We have already used `plt.plot` and `plt.scatter`\n",
    "- Lets look at a fev more ([more plot types](https://matplotlib.org/stable/plot_types/index.html))"
   ]
  },
  {
   "cell_type": "markdown",
   "metadata": {
    "slideshow": {
     "slide_type": "subslide"
    }
   },
   "source": [
    "## `plt.plot`"
   ]
  },
  {
   "cell_type": "markdown",
   "metadata": {},
   "source": [
    "The `plt.plot()` is very flexible\n",
    "- `plt.plot(x, y)` will plot the values in `x` and `y`. `x`, `y` can be single values or iterable items (list, tuples, NumPy arrays etc.) of coordinates\n",
    "* `plot(x1, y1, x2, y2, ...)` will plot the sets of `x` and `y`:s at once in the same figure\n",
    "* `plot(y)` will plot *y* with *x* as integers starting from 0\n",
    "\n",
    "Common keyword arguments to `plt.plot` are\n",
    "- `color=`, `alpha=`, \n",
    "- `linestyle=`, `linewidth=`, `fillstyle=`,\n",
    "- `marker=`, `markersize=`, \n",
    "- `label=` (will be shown by `plt.legend`)\n",
    "\n",
    "Note: It is still possible to use Matlab-like colour/marker/linestyle specifications like `\"rx-.\"`"
   ]
  },
  {
   "cell_type": "markdown",
   "metadata": {
    "slideshow": {
     "slide_type": "subslide"
    }
   },
   "source": [
    "Another example:"
   ]
  },
  {
   "cell_type": "code",
   "execution_count": 20,
   "metadata": {},
   "outputs": [
    {
     "name": "stdout",
     "output_type": "stream",
     "text": [
      "[[0.05 0.05]\n",
      " [0.4  0.3 ]\n",
      " [0.6  0.5 ]\n",
      " [0.7  0.55]\n",
      " [0.95 0.61]]\n"
     ]
    },
    {
     "data": {
      "image/png": "[encoded data removed]",
      "text/plain": [
       "<Figure size 432x288 with 1 Axes>"
      ]
     },
     "metadata": {
      "needs_background": "light"
     },
     "output_type": "display_data"
    }
   ],
   "source": [
    "coord = np.array( [[0.05, 0.05], [0.4, 0.3], [0.6, 0.5], [0.7, 0.55], [0.95, 0.61]] )\n",
    "print(coord)\n",
    "plt.plot(coord[:, 0], coord[:, 1], color='g', label='data', fillstyle='bottom', marker='D', markersize=10 )\n",
    "plt.plot(coord[:, 1], coord[:, 0], color='b', label='flipped data', linestyle='--', linewidth=4 )\n",
    "plt.legend(loc='lower right')\n",
    "plt.show()"
   ]
  },
  {
   "cell_type": "markdown",
   "metadata": {
    "slideshow": {
     "slide_type": "subslide"
    }
   },
   "source": [
    "Multi-dimensional `y` array example"
   ]
  },
  {
   "cell_type": "code",
   "execution_count": 21,
   "metadata": {
    "slideshow": {
     "slide_type": "-"
    }
   },
   "outputs": [
    {
     "name": "stdout",
     "output_type": "stream",
     "text": [
      "(10,) (10, 4)\n"
     ]
    },
    {
     "data": {
      "image/png": "[encoded data removed]",
      "text/plain": [
       "<Figure size 432x288 with 1 Axes>"
      ]
     },
     "metadata": {
      "needs_background": "light"
     },
     "output_type": "display_data"
    }
   ],
   "source": [
    "x = np.linspace(0, 1, num=10)\n",
    "y = np.cumsum(np.random.random((len(x), 4)), axis=0)\n",
    "print(x.shape, y.shape)\n",
    "plt.plot(x, y)\n",
    "plt.show()"
   ]
  },
  {
   "cell_type": "markdown",
   "metadata": {
    "slideshow": {
     "slide_type": "subslide"
    }
   },
   "source": [
    "## Logarithmic plots: `plt.semilogx`, `plt.semilogy`, `plt.loglog`"
   ]
  },
  {
   "cell_type": "markdown",
   "metadata": {},
   "source": [
    "Any axis can be scaled logarithmically by using\n",
    "- `plt.semilogx` : scale the x-axis logaritmically\n",
    "- `plt.semilogy` : the y-axis\n",
    "- `plt.loglog` : scale both axes"
   ]
  },
  {
   "cell_type": "code",
   "execution_count": 22,
   "metadata": {
    "slideshow": {
     "slide_type": "subslide"
    }
   },
   "outputs": [
    {
     "data": {
      "image/png": "[encoded data removed]",
      "text/plain": [
       "<Figure size 432x288 with 1 Axes>"
      ]
     },
     "metadata": {
      "needs_background": "light"
     },
     "output_type": "display_data"
    }
   ],
   "source": [
    "x = np.linspace(0, 100, num=1000)\n",
    "plt.loglog(x, x**2, label=r'$x^2$')\n",
    "plt.loglog(x, x**3, label=r'$x^3$')\n",
    "plt.legend(loc='upper left'); plt.show()"
   ]
  },
  {
   "cell_type": "code",
   "execution_count": 23,
   "metadata": {
    "slideshow": {
     "slide_type": "-"
    }
   },
   "outputs": [
    {
     "data": {
      "image/png": "[encoded data removed]",
      "text/plain": [
       "<Figure size 432x288 with 1 Axes>"
      ]
     },
     "metadata": {
      "needs_background": "light"
     },
     "output_type": "display_data"
    }
   ],
   "source": [
    "plt.semilogy(x, x**2, label=r'$x^2$')\n",
    "plt.semilogy(x, x**3, label=r'$x^3$')\n",
    "plt.legend(loc='lower right'); plt.show()"
   ]
  },
  {
   "cell_type": "markdown",
   "metadata": {
    "slideshow": {
     "slide_type": "subslide"
    }
   },
   "source": [
    "## Error bars: `plt.errorbar`"
   ]
  },
  {
   "cell_type": "markdown",
   "metadata": {},
   "source": [
    "For errorbars (or any other interval you want to show like an errorbar), use \n",
    "- `plt.errorbar(x, y, xerr=..., yerr=...)`"
   ]
  },
  {
   "cell_type": "code",
   "execution_count": 24,
   "metadata": {},
   "outputs": [],
   "source": [
    "x = np.linspace(0, 1, num=10)\n",
    "y = x*(x-1)*(x+1)\n",
    "xerror = np.random.normal(size=len(x), scale=0.1)\n",
    "yerr = np.random.normal(size=len(x), scale=0.05)"
   ]
  },
  {
   "cell_type": "code",
   "execution_count": 25,
   "metadata": {},
   "outputs": [
    {
     "data": {
      "image/png": "[encoded data removed]",
      "text/plain": [
       "<Figure size 432x288 with 1 Axes>"
      ]
     },
     "metadata": {
      "needs_background": "light"
     },
     "output_type": "display_data"
    }
   ],
   "source": [
    "plt.errorbar(x, -y, xerr=xerror, yerr=yerr, ecolor='r');"
   ]
  },
  {
   "cell_type": "code",
   "execution_count": null,
   "metadata": {
    "slideshow": {
     "slide_type": "-"
    }
   },
   "outputs": [],
   "source": [
    "plt.errorbar(x, y, xerr=yerr, ecolor='g');"
   ]
  },
  {
   "cell_type": "markdown",
   "metadata": {
    "slideshow": {
     "slide_type": "subslide"
    }
   },
   "source": [
    "## Filled plots `plt.fill_between`"
   ]
  },
  {
   "cell_type": "markdown",
   "metadata": {},
   "source": [
    "- You can create plots with filled areas between lines\n",
    "- or between a line and the x-axis) using `plt.fill_between(x, y1, y2=)`"
   ]
  },
  {
   "cell_type": "code",
   "execution_count": null,
   "metadata": {},
   "outputs": [],
   "source": [
    "x = np.linspace(1e-10, 4*np.pi, num=1000)\n",
    "y1 = np.sin(x + np.pi*0.5)\n",
    "y2 = np.sin(x) / x\n",
    "\n",
    "plt.fill_between(x, y1, y2=y2, edgecolor='Purple', alpha=0.5, linewidth=4);"
   ]
  },
  {
   "cell_type": "code",
   "execution_count": null,
   "metadata": {},
   "outputs": [],
   "source": [
    "plt.fill_between(x, y2, edgecolor='r', facecolor='SeaGreen', alpha=0.75);"
   ]
  },
  {
   "cell_type": "markdown",
   "metadata": {
    "slideshow": {
     "slide_type": "subslide"
    }
   },
   "source": [
    "## Histograms `plt.hist`"
   ]
  },
  {
   "cell_type": "markdown",
   "metadata": {},
   "source": [
    "- Create histograms using `plt.hist(y, bins=10, normed=False, histtype= ...)`\n",
    "- See the built-in help or online documentation for more options"
   ]
  },
  {
   "cell_type": "code",
   "execution_count": null,
   "metadata": {},
   "outputs": [],
   "source": [
    "x = 100 + 15 * np.random.randn(100000)\n",
    "plt.hist(x, bins=40, density=True, facecolor='g', alpha=0.75);"
   ]
  },
  {
   "cell_type": "code",
   "execution_count": null,
   "metadata": {},
   "outputs": [],
   "source": [
    "plt.hist(x, bins=20, histtype='stepfilled', facecolor='PowderBlue', alpha=0.5);"
   ]
  },
  {
   "cell_type": "markdown",
   "metadata": {
    "slideshow": {
     "slide_type": "subslide"
    }
   },
   "source": [
    "## Contour plots `plt.contour`, `plt.contourf`"
   ]
  },
  {
   "cell_type": "markdown",
   "metadata": {},
   "source": [
    "You can create filled and non-filled contour plots using `plt.contourf` and `plt.contour` respectively.\n",
    "- To specify colour-map, use the `cmap=` keyword argument\n",
    "- For predefined color maps see [the Matplotlib documentation](https://matplotlib.org/3.1.0/tutorials/colors/colormaps.html)"
   ]
  },
  {
   "cell_type": "code",
   "execution_count": null,
   "metadata": {},
   "outputs": [],
   "source": [
    "x = np.linspace(-4*np.pi, 4*np.pi)\n",
    "X, Y = np.meshgrid(x, x)\n",
    "R = np.sqrt(X**2 + Y**2)\n",
    "Z = np.sin(R) / R\n",
    "\n",
    "plt.contour(X, Y, Z, 15, cmap=plt.cm.RdBu)\n",
    "plt.axis('image');"
   ]
  },
  {
   "cell_type": "code",
   "execution_count": null,
   "metadata": {},
   "outputs": [],
   "source": [
    "plt.contourf(X, Y, Z, 15, cmap=plt.cm.summer); plt.axis('image');"
   ]
  },
  {
   "cell_type": "markdown",
   "metadata": {
    "slideshow": {
     "slide_type": "slide"
    }
   },
   "source": [
    "# Axes and subplots `plt.axis`, `plt.subplot`"
   ]
  },
  {
   "cell_type": "markdown",
   "metadata": {},
   "source": [
    "- In the previous examples we have not explicitly worked with the `axis` object in Matplotlib\n",
    "- For a single plot the axis is generated automatically when plotting data, using e.g. `plt.plot`\n",
    "- Working with more than one set of axes in a single figure sometimes requires explicit axes"
   ]
  },
  {
   "cell_type": "code",
   "execution_count": null,
   "metadata": {},
   "outputs": [],
   "source": [
    "x = np.linspace(-1, 1, num=10)\n",
    "fig = plt.figure()\n",
    "ax = fig.add_subplot()\n",
    "ax.plot(x, x**2)\n",
    "ax.set_xlabel('x');"
   ]
  },
  {
   "cell_type": "markdown",
   "metadata": {},
   "source": [
    "- All functionality is reachable using methods of the `figure` and `axis` objects\n",
    "- This is the *object oriented* way of using Matplotlib"
   ]
  },
  {
   "cell_type": "markdown",
   "metadata": {
    "slideshow": {
     "slide_type": "subslide"
    }
   },
   "source": [
    "## Multiple subplots `plt.subplot`"
   ]
  },
  {
   "cell_type": "markdown",
   "metadata": {},
   "source": [
    "* `ax = plt.subplot(nrows, ncols, plot_number)` : call for all values of `plot_number`\n",
    "* `fig1, (ax1, ax2, ...) = plt.subplots(nrows, ncols)` : call once\n",
    "\n",
    "Both these gives a `nrows x ncols` grid of subplots."
   ]
  },
  {
   "cell_type": "code",
   "execution_count": null,
   "metadata": {},
   "outputs": [],
   "source": [
    "plt.subplot(1, 2, 1)\n",
    "plt.plot([0,2,3], [5,3,1])\n",
    "plt.subplot(1, 2, 2)\n",
    "plt.plot([0,1,3], [2,4,3])\n",
    "plt.show()"
   ]
  },
  {
   "cell_type": "code",
   "execution_count": null,
   "metadata": {},
   "outputs": [],
   "source": [
    "fig, (ax1, ax2) = plt.subplots(1, 2)\n",
    "ax1.plot([0,2,3], [5,3,1])\n",
    "ax2.plot([0,1,3], [2,4,3])\n",
    "plt.show()"
   ]
  },
  {
   "cell_type": "markdown",
   "metadata": {
    "slideshow": {
     "slide_type": "subslide"
    }
   },
   "source": [
    "## Subplot layouts\n",
    "\n",
    "How do we make a figure with \n",
    "- **one** subplot on the left and \n",
    "- **two** subplots on top of each other to the right?"
   ]
  },
  {
   "cell_type": "markdown",
   "metadata": {
    "slideshow": {
     "slide_type": "subslide"
    }
   },
   "source": [
    "Solution: \n",
    "1. \"Pretend\" to have a $1 \\times 2$ layout for the first subplot, and chose position 1 (the leftmost for it).\n",
    "2. For the two right plots, \"pretend\" to have a $2 \\times 2$ layout and chose positions 2 and 4 (the numbering goes from left to right from the top down)."
   ]
  },
  {
   "cell_type": "code",
   "execution_count": null,
   "metadata": {},
   "outputs": [],
   "source": [
    "x, y_L, y_R = [0,2,3], [5,3,1], [2,4,3]\n",
    "\n",
    "plt.subplot(1, 2, 1)\n",
    "plt.plot(x, y_L)\n",
    "plt.subplot(2, 2, 2)\n",
    "plt.plot(x, y_R)\n",
    "plt.subplot(2, 2, 4)\n",
    "plt.plot(x, y_R)\n",
    "\n",
    "plt.tight_layout()"
   ]
  },
  {
   "cell_type": "markdown",
   "metadata": {
    "slideshow": {
     "slide_type": "fragment"
    }
   },
   "source": [
    "Tip: For more advanced subplot layouts use [the `GridSpec` class](https://matplotlib.org/stable/api/_as_gen/matplotlib.gridspec.GridSpec.html#matplotlib.gridspec.GridSpec)"
   ]
  },
  {
   "cell_type": "markdown",
   "metadata": {
    "slideshow": {
     "slide_type": "slide"
    }
   },
   "source": [
    "# 3D plotting"
   ]
  },
  {
   "cell_type": "markdown",
   "metadata": {
    "slideshow": {
     "slide_type": "fragment"
    }
   },
   "source": [
    "- To contruct 3D-plots with Matplotlib, you additional need to import an extra axes object\n",
    "  ```python\n",
    "  from mpl_toolkits.mplot3d import Axes3D\n",
    "  ```\n",
    "- setting the `projection='3d'` keyword argument when creating axes gives a 3D plot"
   ]
  },
  {
   "cell_type": "code",
   "execution_count": null,
   "metadata": {},
   "outputs": [],
   "source": [
    "%config InlineBackend.figure_formats = ['retina']"
   ]
  },
  {
   "cell_type": "code",
   "execution_count": null,
   "metadata": {
    "slideshow": {
     "slide_type": "subslide"
    }
   },
   "outputs": [],
   "source": [
    "theta = np.linspace(-4, 4, num=100)\n",
    "z = 0.5*theta; r = z**2 + 1\n",
    "x = r * np.sin(np.pi*theta)\n",
    "y = r * np.cos(np.pi*theta)\n",
    "\n",
    "from mpl_toolkits.mplot3d import Axes3D\n",
    "plt.figure(figsize=(12, 12))\n",
    "plt.subplot(1,1,1, projection='3d')\n",
    "plt.plot(x, y, z, label='parametric curve')\n",
    "plt.legend()\n",
    "plt.show()"
   ]
  },
  {
   "cell_type": "code",
   "execution_count": null,
   "metadata": {
    "slideshow": {
     "slide_type": "subslide"
    }
   },
   "outputs": [],
   "source": [
    "x = np.linspace(-4*np.pi, 4*np.pi, num=40)\n",
    "X, Y = np.meshgrid(x, x)\n",
    "R = np.sqrt(X**2 + Y**2)\n",
    "Z = np.sin(R) / R\n",
    "\n",
    "plt.figure(figsize=(12, 12))\n",
    "ax = plt.subplot(1,1,1, projection='3d')\n",
    "ax.plot_wireframe(X, Y, Z, alpha=0.5)\n",
    "plt.show()"
   ]
  },
  {
   "cell_type": "code",
   "execution_count": null,
   "metadata": {
    "slideshow": {
     "slide_type": "subslide"
    }
   },
   "outputs": [],
   "source": [
    "x = np.linspace(-4*np.pi, 4*np.pi, num=100)\n",
    "X, Y = np.meshgrid(x, x)\n",
    "R = np.sqrt(X**2 + Y**2)\n",
    "Z = np.sin(R) / R\n",
    "\n",
    "plt.figure(figsize=(12, 12))\n",
    "ax = plt.subplot(1,1,1, projection='3d')\n",
    "ax.plot_surface(X, Y, Z, cmap=plt.cm.rainbow, rstride=1, cstride=1, alpha=.5, linewidth=0)\n",
    "ax.contour(X, Y, Z, zdir='y', offset=15)\n",
    "ax.contour(X, Y, Z, zdir='x', offset=-15)\n",
    "plt.show()"
   ]
  },
  {
   "cell_type": "markdown",
   "metadata": {
    "slideshow": {
     "slide_type": "slide"
    }
   },
   "source": [
    "## Matplotlib collections"
   ]
  },
  {
   "cell_type": "markdown",
   "metadata": {},
   "source": [
    "If you want to plot a large number of elements it is somewhat inefficient to plot them one by one using the methods shown above.\n",
    "\n",
    "To remedy this Matplotlib have a **collections** submodule that helps in collecting many objects of the same type that can be used efficiently when drawing images.\n",
    "\n",
    "There are collection-types for polygons, lines, triangular meshes, paths and more.\n",
    "\n",
    "For example the **matplotlib.collections** **LineCollection(segments, ...)** gathers segments of lines for convinient plotting of many line-segments.\n",
    "* **segments** is a sequence of (line0, line1, line2), where:\n",
    "* **lineX** is a sequence of coordinates, i.e. lineX = (x0, y0), (x1, y1), ... (xm, ym)"
   ]
  },
  {
   "cell_type": "code",
   "execution_count": 26,
   "metadata": {
    "slideshow": {
     "slide_type": "subslide"
    }
   },
   "outputs": [
    {
     "data": {
      "image/png": "[encoded data removed]",
      "text/plain": [
       "<Figure size 1080x576 with 1 Axes>"
      ]
     },
     "metadata": {
      "needs_background": "light"
     },
     "output_type": "display_data"
    }
   ],
   "source": [
    "Ny = 10\n",
    "x = np.arange(8)\n",
    "\n",
    "# Ny no. of lines where y is randoms between 0 and 2 * Ny + 3\n",
    "from random import random\n",
    "lines = []\n",
    "for i in np.arange(Ny):\n",
    "    line = []\n",
    "    for xj in x:\n",
    "        y = random() * 3 + 2 * i\n",
    "        line.append( (xj, y) )\n",
    "        #print(line)\n",
    "    lines.append(line)\n",
    "    \n",
    "from matplotlib.collections import LineCollection\n",
    "line_segments = LineCollection(lines)\n",
    "\n",
    "fig = plt.figure(figsize=(15, 8))\n",
    "ax = fig.gca()\n",
    "ax.add_collection(line_segments)\n",
    "ax.set_ylim((0, 2*Ny+3))\n",
    "ax.set_xlim((0, np.amax(x)))\n",
    "plt.show()"
   ]
  },
  {
   "cell_type": "markdown",
   "metadata": {
    "slideshow": {
     "slide_type": "slide"
    }
   },
   "source": [
    "## More Matplotlib?\n",
    "\n",
    "Have a look at the [thumbnail gallery](https://matplotlib.org/stable/gallery/index.html) and see if you **see** what you want to do."
   ]
  }
 ],
 "metadata": {
  "kernelspec": {
   "display_name": "Python 3 (ipykernel)",
   "language": "python",
   "name": "python3"
  },
  "language_info": {
   "codemirror_mode": {
    "name": "ipython",
    "version": 3
   },
   "file_extension": ".py",
   "mimetype": "text/x-python",
   "name": "python",
   "nbconvert_exporter": "python",
   "pygments_lexer": "ipython3",
   "version": "3.10.0"
  }
 },
 "nbformat": 4,
 "nbformat_minor": 1
}
