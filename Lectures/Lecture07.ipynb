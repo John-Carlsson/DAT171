{
 "cells": [
  {
   "cell_type": "markdown",
   "metadata": {},
   "source": [
    "# Lecture 7"
   ]
  },
  {
   "cell_type": "markdown",
   "metadata": {},
   "source": [
    "Lecture 7 will focus on Object Oriented Programming (OOP) and will cover classes, instances, methods constructors, and destructors.\n",
    "\n",
    "The focus will be:\n",
    "\n",
    "- what is a `class` and *how* do you use it?\n",
    "- what's the point of classes and OOP, *why* do we use it?\n",
    "\n",
    "Reference\n",
    " * [1] Chapter 9\n",
    " * [2] Section 9.1-9.4, 9.6-9.7\n",
    " \n",
    "Further reading:\n",
    "\n",
    "- https://docs.python.org/3/tutorial/classes.html\n",
    "- https://www.w3schools.com/python/python_classes.asp\n",
    "- https://www.programiz.com/python-programming/class\n"
   ]
  },
  {
   "cell_type": "markdown",
   "metadata": {},
   "source": [
    "# Classes\n",
    "\n",
    "What is a `class`?\n",
    "\n",
    "A class is in short recipe for how to create an *object* containing associated:\n",
    "\n",
    "- functionality (methods)\n",
    "- data\n",
    "\n",
    "As a silly example, we can think of the class `Dog`. Possible data could be:\n",
    "\n",
    "- colour\n",
    "- weight\n",
    "- age\n",
    "\n",
    "And possible functionalities could be\n",
    "\n",
    "- bark\n",
    "- sleep"
   ]
  },
  {
   "cell_type": "markdown",
   "metadata": {},
   "source": [
    "## An appetiser!"
   ]
  },
  {
   "cell_type": "markdown",
   "metadata": {},
   "source": [
    "A very simple class in Python representing a rectangle. The data is:\n",
    "\n",
    "- the two corners\n",
    "\n",
    "The functionality is:\n",
    "\n",
    "- computing the area"
   ]
  },
  {
   "cell_type": "code",
   "execution_count": null,
   "metadata": {},
   "outputs": [],
   "source": [
    "class Rectangle:\n",
    "    def __init__(self, x0, x1):\n",
    "        \"\"\" Initiates the rectangle for the given corners \"\"\"\n",
    "        self.x0 = x0\n",
    "        self.x1 = x1\n",
    "    \n",
    "    def compute_area(self):\n",
    "        \"\"\" Computes area of the rectangle \"\"\"\n",
    "        return (self.x0[0] - self.x1[0])*(self.x0[1] - self.x1[1])"
   ]
  },
  {
   "cell_type": "markdown",
   "metadata": {},
   "source": [
    "Class definitions are written in `CamelCase`, e.g. `MyNiceClass` (that is you guys!).\n",
    "\n",
    "Using the simple class:"
   ]
  },
  {
   "cell_type": "code",
   "execution_count": null,
   "metadata": {},
   "outputs": [],
   "source": [
    "my_rectangle = Rectangle([1,2], [10,3])"
   ]
  },
  {
   "cell_type": "markdown",
   "metadata": {},
   "source": [
    "`my_rectangle` is called an *instance* of the class `Rectangle`. The `class Rectangle` part is more like a \"blueprint\" for creating (or instantiating) actual rectangle objects from."
   ]
  },
  {
   "cell_type": "code",
   "execution_count": null,
   "metadata": {},
   "outputs": [],
   "source": [
    "# Calling a `method`\n",
    "my_rectangle.compute_area()"
   ]
  },
  {
   "cell_type": "code",
   "execution_count": null,
   "metadata": {},
   "outputs": [],
   "source": [
    "# Type of an instance\n",
    "type(my_rectangle)"
   ]
  },
  {
   "cell_type": "markdown",
   "metadata": {},
   "source": [
    "We can create many `Rectangle`s:"
   ]
  },
  {
   "cell_type": "code",
   "execution_count": null,
   "metadata": {},
   "outputs": [],
   "source": [
    "my_rectangle_2 = Rectangle([2,5], [6,7])\n",
    "my_rectangle_3 = Rectangle([1,1], [2,2])"
   ]
  },
  {
   "cell_type": "markdown",
   "metadata": {},
   "source": [
    "And put them in a list"
   ]
  },
  {
   "cell_type": "code",
   "execution_count": null,
   "metadata": {},
   "outputs": [],
   "source": [
    "rectangles = [my_rectangle, my_rectangle_2, my_rectangle_3]"
   ]
  },
  {
   "cell_type": "markdown",
   "metadata": {},
   "source": [
    "And loop over them:"
   ]
  },
  {
   "cell_type": "code",
   "execution_count": null,
   "metadata": {},
   "outputs": [],
   "source": [
    "for i, rectangle in enumerate(rectangles):\n",
    "    print(f'Rectangle {i+1} has area {rectangle.compute_area()}')"
   ]
  },
  {
   "cell_type": "markdown",
   "metadata": {},
   "source": [
    "## Another example"
   ]
  },
  {
   "cell_type": "code",
   "execution_count": null,
   "metadata": {},
   "outputs": [],
   "source": [
    "from math import sqrt\n",
    "\n",
    "class Point:\n",
    "    def __init__(self, x, y):\n",
    "        self.x = x\n",
    "        self.y = y\n",
    "\n",
    "    def distance_to(self, other):\n",
    "        return sqrt((self.x - other.x)**2 + (self.y - other.y)**2)"
   ]
  },
  {
   "cell_type": "markdown",
   "metadata": {},
   "source": [
    "## The constructor: Constructs instances"
   ]
  },
  {
   "cell_type": "markdown",
   "metadata": {},
   "source": [
    "`__init__` is a special method. It is called when the constructor is called.\n",
    "The constructor is named the same as the name of the class."
   ]
  },
  {
   "cell_type": "markdown",
   "metadata": {},
   "source": [
    "## Creating instances of the class"
   ]
  },
  {
   "cell_type": "markdown",
   "metadata": {},
   "source": [
    "### Point 1"
   ]
  },
  {
   "cell_type": "code",
   "execution_count": null,
   "metadata": {},
   "outputs": [],
   "source": [
    "p1 = Point(0.3, 0.7)"
   ]
  },
  {
   "cell_type": "code",
   "execution_count": null,
   "metadata": {},
   "outputs": [],
   "source": [
    "print(p1.x, \",\", p1.y)"
   ]
  },
  {
   "cell_type": "code",
   "execution_count": null,
   "metadata": {},
   "outputs": [],
   "source": [
    "p1.x = 0.5"
   ]
  },
  {
   "cell_type": "code",
   "execution_count": null,
   "metadata": {},
   "outputs": [],
   "source": [
    "print(p1.x)"
   ]
  },
  {
   "cell_type": "markdown",
   "metadata": {},
   "source": [
    "### Point 2"
   ]
  },
  {
   "cell_type": "code",
   "execution_count": null,
   "metadata": {},
   "outputs": [],
   "source": [
    "p2 = Point(0.4, 1.0)"
   ]
  },
  {
   "cell_type": "code",
   "execution_count": null,
   "metadata": {},
   "outputs": [],
   "source": [
    "p2.x"
   ]
  },
  {
   "cell_type": "markdown",
   "metadata": {},
   "source": [
    "Each instance of `Point` has its own set of variables (`x`, `y`)."
   ]
  },
  {
   "cell_type": "markdown",
   "metadata": {},
   "source": [
    "### The \"self\" argument"
   ]
  },
  {
   "cell_type": "markdown",
   "metadata": {},
   "source": [
    "The first method arguments refers to the *object itself* when methods are called.\n",
    "The name \"self\" is not strictly necessary, but \"self\" is the standard name (you should always use it).\n",
    "\n"
   ]
  },
  {
   "cell_type": "code",
   "execution_count": null,
   "metadata": {},
   "outputs": [],
   "source": [
    "p1.distance_to(p2)"
   ]
  },
  {
   "cell_type": "code",
   "execution_count": null,
   "metadata": {},
   "outputs": [],
   "source": [
    "p2.distance_to(p1)"
   ]
  },
  {
   "cell_type": "markdown",
   "metadata": {},
   "source": [
    "Some points on terminology:\n",
    "* `p1` and `p2` are instances of `Point`\n",
    "* `p1` and `p2` are objects\n",
    "* `Point` is a class"
   ]
  },
  {
   "cell_type": "markdown",
   "metadata": {},
   "source": [
    "## `Tick`"
   ]
  },
  {
   "cell_type": "code",
   "execution_count": null,
   "metadata": {},
   "outputs": [],
   "source": [
    "class Ticker():\n",
    "    def __init__(self):\n",
    "        self._tick = 0\n",
    "\n",
    "    def tick(self):\n",
    "        self._tick += 1\n",
    "        print(\"My tick is\", self._tick)"
   ]
  },
  {
   "cell_type": "code",
   "execution_count": null,
   "metadata": {},
   "outputs": [],
   "source": [
    "ticker = Ticker()"
   ]
  },
  {
   "cell_type": "code",
   "execution_count": null,
   "metadata": {},
   "outputs": [],
   "source": [
    "ticker._tick = 20"
   ]
  },
  {
   "cell_type": "code",
   "execution_count": null,
   "metadata": {},
   "outputs": [],
   "source": [
    "ticker.tick()"
   ]
  },
  {
   "cell_type": "code",
   "execution_count": null,
   "metadata": {},
   "outputs": [],
   "source": [
    "ticker.tick()\n",
    "ticker.tick()\n",
    "ticker.tick()"
   ]
  },
  {
   "cell_type": "code",
   "execution_count": null,
   "metadata": {},
   "outputs": [],
   "source": [
    "ticker2 = Ticker()\n",
    "ticker2.tick()\n",
    "ticker2.tick()"
   ]
  },
  {
   "cell_type": "code",
   "execution_count": null,
   "metadata": {},
   "outputs": [],
   "source": [
    "ticker.tick()"
   ]
  },
  {
   "cell_type": "markdown",
   "metadata": {},
   "source": [
    "### Exercise\n",
    "\n",
    "- Create a class `Tally` that accumulates numbers given to it using the `tally` method:\n",
    "\n",
    "```\n",
    "t = Tally()\n",
    "print(t._tally) # 0\n",
    "t.tally(10)\n",
    "print(t._tally) # 10\n",
    "t.tally(20)\n",
    "print(t._tally) # 30\n",
    "```\n",
    "\n",
    "- Add a method to `Tally` called `total` that takes another `Tally` instance and returns the sum of the tallys:\n",
    "\n",
    "```\n",
    "t1 = Tally()\n",
    "t1.tally(20)\n",
    "t1.tally(10)\n",
    "t2 = Tally()\n",
    "t2.tally(30)\n",
    "print(t1.total(t2)) # 60\n",
    "```\n",
    "\n",
    "- Bonus, make the `total` method be able to take an arbitrary number of `Tally` instances"
   ]
  },
  {
   "cell_type": "code",
   "execution_count": null,
   "metadata": {},
   "outputs": [],
   "source": [
    "class Tally:\n",
    "    def __init__(self):\n",
    "        self._tally = 0\n",
    "        \n",
    "    def tally(self, n):\n",
    "        self._tally += n\n",
    "        \n",
    "    def total(self, *others):\n",
    "        tot = self._tally\n",
    "        for tally in others:\n",
    "            tot += tally._tally\n",
    "        return tot\n",
    "\n",
    "t = Tally()\n",
    "print(t._tally)\n",
    "t.tally(10)\n",
    "print(t._tally)\n",
    "t.tally(20)\n",
    "print(t._tally)\n",
    "\n",
    "print(\"-------\")\n",
    "\n",
    "t1 = Tally()\n",
    "t1.tally(20)\n",
    "t1.tally(10)\n",
    "t2 = Tally()\n",
    "t2.tally(30)\n",
    "print(t1.total(t2)) # 60\n",
    "\n",
    "print(\"------\")\n",
    "\n",
    "t3 = Tally()\n",
    "t3.tally(40)\n",
    "\n",
    "print(t1.total(t2, t3)) # 60"
   ]
  },
  {
   "cell_type": "markdown",
   "metadata": {},
   "source": [
    "## Default constructors"
   ]
  },
  {
   "cell_type": "code",
   "execution_count": null,
   "metadata": {},
   "outputs": [],
   "source": [
    "class MyClass:\n",
    "    pass\n",
    "\n",
    "# Is equivalent to\n",
    "\n",
    "class MyClass:\n",
    "    def __init__(self):\n",
    "        pass"
   ]
  },
  {
   "cell_type": "code",
   "execution_count": null,
   "metadata": {},
   "outputs": [],
   "source": [
    "p = MyClass()\n",
    "type(p)"
   ]
  },
  {
   "cell_type": "markdown",
   "metadata": {},
   "source": [
    "There are several special methods (other than `__init__`) that all start and end with two underscores."
   ]
  },
  {
   "cell_type": "markdown",
   "metadata": {},
   "source": [
    "# Destructors"
   ]
  },
  {
   "cell_type": "markdown",
   "metadata": {},
   "source": [
    "In many languages with OOP, there is a destructor that cleans up after objects are destroyed.\n",
    "It could be closing a file or network connection. It could be freeing up allocated memory.\n",
    "\n",
    "In Python the destructor isn't as relevant, and they are rarely used (due to the garbage collected memory management).\n",
    "\n",
    "Instead of calling the destructor when the last reference to the object disappear, it is called when the garbage collector is called.\n",
    "\n",
    "*The garbage collector frees up memory when it detects an object is no longer in use. You don't have control over when it runs in Python.*"
   ]
  },
  {
   "cell_type": "code",
   "execution_count": null,
   "metadata": {},
   "outputs": [],
   "source": [
    "class MyClass:\n",
    "    def __del__(self):\n",
    "        print(\"Good bye\")\n",
    "\n",
    "\n",
    "x = MyClass()\n",
    "print(\"....\")\n",
    "x = list() # We just lost the last reference to the MyClass() object we created!\n",
    "print(\"****\")"
   ]
  },
  {
   "cell_type": "markdown",
   "metadata": {},
   "source": [
    "## The 'with' statement"
   ]
  },
  {
   "cell_type": "markdown",
   "metadata": {},
   "source": [
    "The `with` statement in Python act as a sort of replacement for much uses of constructors and destructors.\n",
    "\n",
    "Typically used when a resource has to be acquired, and later must/should be immediately released when the object is no longer in use."
   ]
  },
  {
   "cell_type": "code",
   "execution_count": null,
   "metadata": {},
   "outputs": [],
   "source": [
    "class MyClass:\n",
    "    def __init__(self):\n",
    "        print(\"Creating the object\")\n",
    "\n",
    "    def __enter__(self):\n",
    "        print(\"Opening a file or something\")\n",
    "        return self\n",
    "    \n",
    "    def __exit__(self, type, value, traceback):\n",
    "        print(\"Closing that file\")\n",
    "        print(self, type, value, traceback)\n",
    "    \n",
    "    def do_thing(self):\n",
    "        print(\"hello again\")"
   ]
  },
  {
   "cell_type": "code",
   "execution_count": null,
   "metadata": {},
   "outputs": [],
   "source": [
    "with MyClass() as x:\n",
    "    print(\"Doing stuff with x and y!\")\n",
    "    raise NameError # The __exit__ statement will be called even when errors occur, ensuring that the file is closed\n",
    "    print(\"Printing some more\")"
   ]
  },
  {
   "cell_type": "code",
   "execution_count": null,
   "metadata": {},
   "outputs": [],
   "source": [
    "m = MyClass()\n",
    "print(m)"
   ]
  },
  {
   "cell_type": "code",
   "execution_count": null,
   "metadata": {},
   "outputs": [],
   "source": [
    "[1,2,3]"
   ]
  },
  {
   "cell_type": "markdown",
   "metadata": {},
   "source": [
    "This is also something we rarely use (just for things that need to acquire and release a resource)."
   ]
  },
  {
   "cell_type": "markdown",
   "metadata": {},
   "source": [
    "## The `__str__` method"
   ]
  },
  {
   "cell_type": "markdown",
   "metadata": {},
   "source": [
    "Printing out human readable representations of the data is important\n",
    "\n",
    "When the function `str(x)` is called on a class, it will look for the method `x.__str__`."
   ]
  },
  {
   "cell_type": "code",
   "execution_count": null,
   "metadata": {},
   "outputs": [],
   "source": [
    "class ComplexNumber:\n",
    "    def __init__(self, re, im):\n",
    "        self.re = re\n",
    "        self.im = im\n",
    "\n",
    "    def __str__(self):\n",
    "        return f\"{self.re} + {self.im}j\"\n",
    "    \n",
    "    def __repr__(self):\n",
    "        return f\"ComplexNumber(re={self.re}, im={self.im})\""
   ]
  },
  {
   "cell_type": "code",
   "execution_count": null,
   "metadata": {},
   "outputs": [],
   "source": [
    "x = ComplexNumber(0.3, 5.6)\n",
    "print(str(x))\n",
    "print(repr(x))"
   ]
  },
  {
   "cell_type": "code",
   "execution_count": null,
   "metadata": {},
   "outputs": [],
   "source": [
    "ComplexNumber(re=0.3, im=5.6)"
   ]
  },
  {
   "cell_type": "markdown",
   "metadata": {},
   "source": [
    "We can print x directly, and print will ask for the string representation of the object automatically"
   ]
  },
  {
   "cell_type": "code",
   "execution_count": null,
   "metadata": {},
   "outputs": [],
   "source": [
    "print(x)"
   ]
  },
  {
   "cell_type": "markdown",
   "metadata": {},
   "source": [
    "The same `__xxx__` methods applies other conversions, like `float(x)`, `int(x)`"
   ]
  },
  {
   "cell_type": "markdown",
   "metadata": {},
   "source": [
    "A strongly related method is the `__repr__` method which also (should) return a string.\n",
    "`str(x)` is called on an object that's missing `__str__`, then `__repr__` is used instead.\n",
    "`repr(x)` is the representation of the object (can usually be copy pasted into code).\n",
    "\n",
    "See https://www.tutorialspoint.com/str-vs-repr-in-python for more info on `__str__` vs `__repr__`.\n"
   ]
  },
  {
   "cell_type": "markdown",
   "metadata": {},
   "source": [
    "# Class variables"
   ]
  },
  {
   "cell_type": "markdown",
   "metadata": {},
   "source": [
    "Class variables (as opposed to instance variables) are shared variables for all instances in the class"
   ]
  },
  {
   "cell_type": "code",
   "execution_count": null,
   "metadata": {},
   "outputs": [],
   "source": [
    "class MyClass:\n",
    "    y = 0\n",
    "    \n",
    "    def __init__(self, x):\n",
    "        self.x = x\n",
    "        MyClass.y += 1"
   ]
  },
  {
   "cell_type": "code",
   "execution_count": null,
   "metadata": {},
   "outputs": [],
   "source": [
    "MyClass.y = 0\n",
    "a = MyClass(123)\n",
    "b = MyClass(456)\n",
    "c = MyClass(4567)\n",
    "d = MyClass(4567)\n",
    "print(MyClass.y)"
   ]
  },
  {
   "cell_type": "markdown",
   "metadata": {},
   "source": [
    "## When are they useful?"
   ]
  },
  {
   "cell_type": "markdown",
   "metadata": {},
   "source": [
    "* Constants. E.g. math constants, `log_10`, or the `Triangle` example below\n",
    "* Instance counters (I'm not to found of these)"
   ]
  },
  {
   "cell_type": "code",
   "execution_count": null,
   "metadata": {},
   "outputs": [],
   "source": [
    "import numpy as np\n",
    "import numpy.linalg as la\n",
    "\n",
    "class Triangle:\n",
    "    # Keeps track of which (local) nodes are on which edge:\n",
    "    edge_num = np.array([(0, 1), (1, 2), (2, 0)])\n",
    "    \n",
    "    def __init__(self, points):\n",
    "        self.points = points\n",
    "    \n",
    "    def compute_edge_length(self, edge):\n",
    "        p_a, p_b = self.points[self.edge_num[edge]]\n",
    "        return la.norm(p_b - p_a)"
   ]
  },
  {
   "cell_type": "code",
   "execution_count": null,
   "metadata": {},
   "outputs": [],
   "source": [
    "t = Triangle(np.array([[0,0], [2,1], [1,3]]))\n",
    "t.compute_edge_length(2)\n",
    "\n"
   ]
  },
  {
   "cell_type": "markdown",
   "metadata": {},
   "source": [
    "# Private variables"
   ]
  },
  {
   "cell_type": "markdown",
   "metadata": {},
   "source": [
    "Private variables can only be accessed from within the class (only via `self.`). While many programming languages (e.g. C++/Java) have this concept, there is no way to enforce this in Python. \n",
    "\n",
    "Instead, the convention is to indicate that these variables are private (and should not be directly accessed outside the class) by preceding the variables with one or two underscores. \n",
    "\n",
    "- One underscore: says to the user that they should likely not access the variable.\n",
    "- Two underscore: also does \"name mangling\" that makes it harder to access"
   ]
  },
  {
   "cell_type": "code",
   "execution_count": null,
   "metadata": {},
   "outputs": [],
   "source": [
    "class Rectangle:\n",
    "    def __init__(self, x, y, w, h):\n",
    "        self.__area = w * h\n",
    "        self._x = x\n",
    "        self._y = y\n",
    "        self.__w = w\n",
    "        self.__h = h\n",
    "    \n",
    "    def update_width(self, w):\n",
    "        self.__w = w\n",
    "        self.__area = self.__h * w\n",
    "\n",
    "    def update_height(self, h):\n",
    "        self.__h = h\n",
    "        self.__area = self.__w * h\n",
    "\n",
    "    def compute_area(self):\n",
    "        # Computing the area is so cheap this would not be worth storing in memory.\n",
    "        # But imagine there would be a computation that was very expensive so that you wanted to store it.\n",
    "        return self.__area"
   ]
  },
  {
   "cell_type": "code",
   "execution_count": null,
   "metadata": {},
   "outputs": [],
   "source": [
    "r = Rectangle(1.0, 3.0, 5, 3)"
   ]
  },
  {
   "cell_type": "code",
   "execution_count": null,
   "metadata": {},
   "outputs": [],
   "source": [
    "r.compute_area()"
   ]
  },
  {
   "cell_type": "code",
   "execution_count": null,
   "metadata": {},
   "outputs": [],
   "source": [
    "r.update_width(10)"
   ]
  },
  {
   "cell_type": "code",
   "execution_count": null,
   "metadata": {},
   "outputs": [],
   "source": [
    "r.compute_area()"
   ]
  },
  {
   "cell_type": "code",
   "execution_count": null,
   "metadata": {},
   "outputs": [],
   "source": [
    "r._x"
   ]
  },
  {
   "cell_type": "code",
   "execution_count": null,
   "metadata": {},
   "outputs": [],
   "source": [
    "r.__h"
   ]
  },
  {
   "cell_type": "code",
   "execution_count": null,
   "metadata": {},
   "outputs": [],
   "source": [
    "# But it is still possible to access it (although cumbersome):\n",
    "r._Rectangle__h"
   ]
  },
  {
   "cell_type": "markdown",
   "metadata": {},
   "source": [
    "__Classes are the standard way (in many programming languages) to construct object abstractions!__ \n",
    "\n",
    "They are very useful to keep simplicity in more and more complex software."
   ]
  },
  {
   "cell_type": "markdown",
   "metadata": {},
   "source": [
    "## You have been using objects all the time"
   ]
  },
  {
   "cell_type": "markdown",
   "metadata": {},
   "source": [
    "* Strings\n",
    "* Lists, sets, dictionaries\n",
    "* File objects\n",
    "* Numpy arrays\n",
    "* KDTree\n",
    "* Even integers!\n",
    "\n",
    "( some of the stuff above might be implemented slightly different than with a class in Python, but conceptually they are the same )"
   ]
  },
  {
   "cell_type": "markdown",
   "metadata": {},
   "source": [
    "Primitives like floats, integers, bools, characters, are often not treated as objects in many object oriented programming languages, but in Python they are."
   ]
  },
  {
   "cell_type": "code",
   "execution_count": null,
   "metadata": {},
   "outputs": [],
   "source": [
    "x = 0.5\n",
    "print(x.as_integer_ratio())"
   ]
  },
  {
   "cell_type": "markdown",
   "metadata": {},
   "source": [
    "# What's the point with OOP?"
   ]
  },
  {
   "cell_type": "markdown",
   "metadata": {},
   "source": [
    "In OOP the focus is on the creation of objects which contain both data and functionality together (and we call that an **object**)\n",
    "\n",
    "Usually, each object definition corresponds to some object or concept in the real world and the functions that operate on that object correspond to the ways real-world objects interact.\n",
    "Objects have a state and methods that act on this state. Programs manipulate the states by manipulating the objects."
   ]
  },
  {
   "cell_type": "markdown",
   "metadata": {},
   "source": [
    "## Why are \"methods\" sometimes better than \"functions\"?"
   ]
  },
  {
   "cell_type": "markdown",
   "metadata": {},
   "source": [
    "After all, one can can just as easily write a function\n",
    "\n",
    "```python\n",
    "do_thing(object_a, object_b)\n",
    "```\n",
    "instead of a method\n",
    "```python\n",
    "object_a.do_thing(object_b)\n",
    "```"
   ]
  },
  {
   "cell_type": "markdown",
   "metadata": {},
   "source": [
    "## Several reasons"
   ]
  },
  {
   "cell_type": "markdown",
   "metadata": {},
   "source": [
    " 1. Sometimes conceptually better design to \"ask\" objects to perform things, e.g. \n",
    "\n",
    "    ```python\n",
    "    user_phone.send_sms(\"Hello world!\") # Have the phone send the message\n",
    "    send_sms(user_phone, \"Hello world!\") # Pass the phone and message to the send_sms method\n",
    "    ```\n",
    "    especially when the first argument is the \"primary\" or \"core\" object in the operation.\n",
    "    *(Note: Some other languages actually allow for these call syntaxes to be used interchangeable <https://en.wikipedia.org/wiki/Uniform_Function_Call_Syntax>)*\n",
    " 2. Dynamic dispatch allows selecting a behaviour based on the type\n",
    "\n",
    "    ```python\n",
    "    if use_console:\n",
    "        logger = ConsoleOutput()\n",
    "    else:\n",
    "        logger = FileWriter(\"logfile.txt\")\n",
    "    ...\n",
    "    logger.write(message) # Object specific method is called\n",
    "    write(logger, message) # Can we even construct this general function?\n",
    "    ```\n",
    "    This concept is a prime characteristic of OOP languages: <https://en.wikipedia.org/wiki/Dynamic_dispatch>\n",
    "    We use this all the time in Python; `x+y` means very different things\n",
    "    \n",
    " 3. Inheritance makes dynamic dispatch more powerful than a plain function (in python) (next lecture)\n",
    " \n",
    "There are other designs in other programming languages that give similar advantage but in this course we focus on OOP. Almost all high level languages allows you to create your own custom data types and specialise code by dispatching on type."
   ]
  },
  {
   "cell_type": "markdown",
   "metadata": {},
   "source": [
    "## Sometimes (often), functions are suitable"
   ]
  },
  {
   "cell_type": "markdown",
   "metadata": {},
   "source": [
    "But sometimes, ordinary functions and procedural programming is the way to go:\n",
    "\n",
    "```python\n",
    "coords = read_coordinate_file('SampleCoordinates.txt')\n",
    "```\n",
    "is perfectly straight forward, and\n",
    "\n",
    "```python\n",
    "def max(a, b):\n",
    "    return a if a > b else b\n",
    "```\n",
    "is a good, general function. *Note: here `max` itself makes of the dynamically dispatched `>` (greater than) method based on the types of `a` and `b`*"
   ]
  },
  {
   "cell_type": "markdown",
   "metadata": {},
   "source": [
    "## The best reason for OOP"
   ]
  },
  {
   "cell_type": "markdown",
   "metadata": {},
   "source": [
    "What makes programming with large codes difficult?\n",
    "\n",
    "**A.** Syntax (how to express the code)?\n",
    "\n",
    "**B.** Logic (how to solve a tricky problem)?\n",
    "\n",
    "**C.** State (keeping track of how all the data is accessed and modified)?\n",
    "\n",
    "...\n",
    "\n",
    "...\n",
    "\n",
    "...\n",
    "\n",
    "...\n",
    "\n",
    "...\n",
    "\n",
    "...\n",
    "\n",
    "...\n",
    "\n",
    "...\n",
    "\n",
    "..."
   ]
  },
  {
   "cell_type": "markdown",
   "metadata": {},
   "source": [
    "The right answer is sometimes logic, but in a code of any significant size **state** creeps up and becomes a beast to deal with. The human brain can only keep track of so many things simultaneously."
   ]
  },
  {
   "cell_type": "markdown",
   "metadata": {},
   "source": [
    "The solution to this? ***Scope and abstractions!***\n",
    "\n",
    "You have made functions already that hide away details inside a scope."
   ]
  },
  {
   "cell_type": "code",
   "execution_count": null,
   "metadata": {},
   "outputs": [],
   "source": [
    "def numerical_integration(f, span):\n",
    "    \"\"\" Does numerical integration of f over the given span \"\"\"\n",
    "    import numpy as np\n",
    "    xs = np.linspace(span[0], span[1], 100)\n",
    "    s = 0\n",
    "    for i in range(len(xs)-1):\n",
    "        dx = xs[i+1]-xs[i]\n",
    "        x_mid = 0.5*(xs[i]+xs[i+1])\n",
    "        s += dx*f(x_mid)\n",
    "    return s"
   ]
  },
  {
   "cell_type": "markdown",
   "metadata": {},
   "source": [
    "Calling the function will look very clean. No need to worry about internal variables `x_mid` or anything like that."
   ]
  },
  {
   "cell_type": "code",
   "execution_count": null,
   "metadata": {},
   "outputs": [],
   "source": [
    "f = lambda x : x**2              # f(x) = x^2\n",
    "print(  numerical_integration(f, (0, 1))  )  # Analytical answer is 1/3\n",
    "# I only need to keep track of my function 'f' in this scope."
   ]
  },
  {
   "cell_type": "markdown",
   "metadata": {},
   "source": [
    "Even fairly simple code, like a matrix multiplication\n",
    "\n",
    "```python\n",
    "for i in range(k.rows):\n",
    "    y[i] = 0\n",
    "    for j in range(k.cols):\n",
    "        y[i] += k[i,j] * x[j]\n",
    "```\n",
    "would be unmanageable to have recurring everywhere in the code. We need to hide it away:\n",
    "```python\n",
    "y = k*x\n",
    "```"
   ]
  },
  {
   "cell_type": "markdown",
   "metadata": {},
   "source": [
    "## Objects and abstractions"
   ]
  },
  {
   "cell_type": "markdown",
   "metadata": {},
   "source": [
    "Creating your own abstractions with objects allows you to hide away details\n",
    "\n",
    "```python\n",
    "x = [[[1.,2.],[3.,4.],[0.,2.]],\n",
    "     [[3.,4.],[2.,0.],[3.,4.]],\n",
    "     [[5.,6.],[1.,1.],[3.,3.]],\n",
    "     ...\n",
    "    ]\n",
    "```\n",
    "`x` is a list of lists of lists of floats."
   ]
  },
  {
   "cell_type": "markdown",
   "metadata": {},
   "source": [
    "```python\n",
    "y = [Triangle(Point(1., 2.), Point(1., 2.), Point(0., 2.)),\n",
    "     Triangle(Point(3., 4.), Point(2., 0.), Point(3., 4.)),\n",
    "     Triangle(Point(5., 6.), Point(1., 1.), Point(3., 3.)),\n",
    "    ...\n",
    "    ]\n",
    "```\n",
    "\n",
    "`y` is a list of triangles.\n",
    "\n",
    "The Triangle object *shows intent*, which is the best thing code can do to avoid logic bugs.\n",
    "\n",
    "---------------------------------\n",
    "\n",
    "*Typing in `y` is much more tedious in this example, but hardcoding huge lists are rarely ever done like this anyway, in practice we would find:*\n",
    "```python\n",
    "y = compute_triangle_mesh(geometry)\n",
    "```\n",
    "\n",
    "--------------------\n",
    "In the typical Matlab code, everything is a vector/matrix. \n",
    "It relies solely on the variable names and the programmers memory to keep track of everything.\n",
    "\n",
    "\n",
    "*Technically matlab can also do basic OOP, but it's pretty much never used.*"
   ]
  },
  {
   "cell_type": "markdown",
   "metadata": {},
   "source": [
    "# Some examples"
   ]
  },
  {
   "cell_type": "markdown",
   "metadata": {},
   "source": [
    "Some examples of objects with a typical state + a few of the methods it might contain"
   ]
  },
  {
   "cell_type": "markdown",
   "metadata": {},
   "source": [
    "* **Complex number**: `re`, `im` + `abs()`, `imag()`, `real()`, `conjugate()`, `add(...)`, ...\n",
    "* **Triangle**: `[Points]` + `area()`, `normal()`, ...\n",
    "* **Matrix**: `[[floats]]` + `[]`, `solve(b)`, ...\n",
    "* **Timer**: `start_time, duration` + `start()`, `stop()`, `reset()`, `read()`\n",
    "* **DateTime**: `seconds_since_epoch` + `year()`, `day_of_week()`, ...\n",
    "* **CSRMatrix**: `data`, `colind`, `rowptr` + `transpose()`, `dot(x)`, ...\n",
    "* **User**: `name`, `email`, `last_login` + `notify`, ...\n",
    "* **Velocity**: `coefficient`, `unit` + `kmh()`, `mph()`\n",
    "* **XMLParser**: `data_stream`, + `iter()` + `next()`\n",
    "* **PlasticMaterialModel**: `youngs_modulus`, `poissons_ratio`, `yield_strength`, + `compute_stress(strain)` + `compute_tangent(state)`\n",
    "* **Button**: `enabled`, `label`, `stylesheet`, `action` + `click`, `set_enabled`, + ...\n",
    "* **Layout**: `[widgets]`, \n",
    "* **numpy.array**: `data`, `dtype` + `[]`, ...\n",
    "* **str**: `unicode_data` + `[]`, `split()`, ...\n",
    "* **dict**: `hash_table`, `data` + `[]`, `items()`, ...\n",
    "\n",
    "\n",
    "It doesn't have to be representations of physical objects! Almost any common noun can make sense depending on context.\n",
    "\n",
    "It gives semantic meaning to a bundle of values.\n",
    "\n",
    "It also gives functions that are very strongly tied to the particular object a convenient way to find them; `str.split`, `list.append`, `list.sort`.\n",
    "\n",
    "It gives us the option of specialising common functions to a particular object: `matrix.dot` vs `csr_matrix.dot`"
   ]
  },
  {
   "cell_type": "markdown",
   "metadata": {},
   "source": [
    "# Computer assignment 2"
   ]
  },
  {
   "cell_type": "markdown",
   "metadata": {},
   "source": [
    "The second assignment will be more open-ended than the first. However, it still intended to test OOP, so to pass, it's required to use classes where it is suitable (even if you might be able to do without). You should also make use of `Enum` (covered in greater detail later).\n",
    "\n",
    "I highly recommended having a quick read through the _whole_ assignment before starting.\n",
    "\n",
    "1. The library for card games (in particular, functionality for Texas Hold'em poker)\n",
    "2. Writing unit tests\n",
    "3. Writing and generating API documentation\n",
    "\n",
    "There is a list of specific classes that must be included in the library.\n",
    "You will use this library to implement a graphical Texas Hold'em game in the last lab."
   ]
  },
  {
   "cell_type": "code",
   "execution_count": null,
   "metadata": {},
   "outputs": [],
   "source": []
  }
 ],
 "metadata": {
  "kernelspec": {
   "display_name": "Python 3",
   "language": "python",
   "name": "python3"
  },
  "language_info": {
   "codemirror_mode": {
    "name": "ipython",
    "version": 3
   },
   "file_extension": ".py",
   "mimetype": "text/x-python",
   "name": "python",
   "nbconvert_exporter": "python",
   "pygments_lexer": "ipython3",
   "version": "3.10.0"
  }
 },
 "nbformat": 4,
 "nbformat_minor": 4
}
